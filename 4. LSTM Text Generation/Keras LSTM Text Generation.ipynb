{
 "cells": [
  {
   "cell_type": "markdown",
   "metadata": {},
   "source": [
    "# Keras LSTM Text Generation"
   ]
  },
  {
   "cell_type": "code",
   "execution_count": 1,
   "metadata": {},
   "outputs": [
    {
     "name": "stderr",
     "output_type": "stream",
     "text": [
      "Using TensorFlow backend.\n"
     ]
    }
   ],
   "source": [
    "from __future__ import print_function\n",
    "from keras.callbacks import LambdaCallback\n",
    "from keras.models import Sequential\n",
    "from keras.layers import Dense, Activation\n",
    "from keras.layers import LSTM\n",
    "from keras.optimizers import RMSprop\n",
    "import numpy as np\n",
    "import random\n",
    "import sys\n",
    "import io"
   ]
  },
  {
   "cell_type": "code",
   "execution_count": 2,
   "metadata": {},
   "outputs": [
    {
     "name": "stdout",
     "output_type": "stream",
     "text": [
      "text length 561852\n"
     ]
    }
   ],
   "source": [
    "text = open('sherlock_homes.txt', 'r').read().lower()\n",
    "print('text length', len(text))"
   ]
  },
  {
   "cell_type": "code",
   "execution_count": 3,
   "metadata": {},
   "outputs": [
    {
     "name": "stdout",
     "output_type": "stream",
     "text": [
      "ï»¿adventure i. a scandal in bohemia\n",
      "\n",
      "i.\n",
      "\n",
      "to sherlock holmes she is always the woman. i have seldom heard\n",
      "him mention her under any other name. in his eyes she eclipses\n",
      "and predominates the whole of her sex. it was not that he felt\n",
      "any emotion akin to love for irene adler. all emotions, and that\n",
      "one\n"
     ]
    }
   ],
   "source": [
    "print(text[:300])"
   ]
  },
  {
   "cell_type": "markdown",
   "metadata": {},
   "source": [
    "## Map chars to integers"
   ]
  },
  {
   "cell_type": "code",
   "execution_count": 4,
   "metadata": {},
   "outputs": [
    {
     "name": "stdout",
     "output_type": "stream",
     "text": [
      "total chars:  59\n"
     ]
    }
   ],
   "source": [
    "chars = sorted(list(set(text)))\n",
    "print('total chars: ', len(chars))"
   ]
  },
  {
   "cell_type": "code",
   "execution_count": 5,
   "metadata": {},
   "outputs": [],
   "source": [
    "char_indices = dict((c, i) for i, c in enumerate(chars))\n",
    "indices_char = dict((i, c) for i, c in enumerate(chars))"
   ]
  },
  {
   "cell_type": "markdown",
   "metadata": {},
   "source": [
    "## Split up into subsequences"
   ]
  },
  {
   "cell_type": "code",
   "execution_count": 6,
   "metadata": {},
   "outputs": [
    {
     "name": "stdout",
     "output_type": "stream",
     "text": [
      "nb sequences: 187271\n"
     ]
    }
   ],
   "source": [
    "maxlen = 40\n",
    "step = 3\n",
    "sentences = []\n",
    "next_chars = []\n",
    "for i in range(0, len(text) - maxlen, step):\n",
    "    sentences.append(text[i: i + maxlen])\n",
    "    next_chars.append(text[i + maxlen])\n",
    "print('nb sequences:', len(sentences))"
   ]
  },
  {
   "cell_type": "code",
   "execution_count": 7,
   "metadata": {},
   "outputs": [
    {
     "name": "stdout",
     "output_type": "stream",
     "text": [
      "['ï»¿adventure i. a scandal in bohemia\\n\\ni.', 'adventure i. a scandal in bohemia\\n\\ni.\\n\\nt', 'enture i. a scandal in bohemia\\n\\ni.\\n\\nto s']\n",
      "['\\n', 'o', 'h']\n"
     ]
    }
   ],
   "source": [
    "print(sentences[:3])\n",
    "print(next_chars[:3])"
   ]
  },
  {
   "cell_type": "code",
   "execution_count": 8,
   "metadata": {},
   "outputs": [],
   "source": [
    "x = np.zeros((len(sentences), maxlen, len(chars)), dtype=np.bool)\n",
    "y = np.zeros((len(sentences), len(chars)), dtype=np.bool)\n",
    "for i, sentence in enumerate(sentences):\n",
    "    for t, char in enumerate(sentence):\n",
    "        x[i, t, char_indices[char]] = 1\n",
    "    y[i, char_indices[next_chars[i]]] = 1"
   ]
  },
  {
   "cell_type": "code",
   "execution_count": 9,
   "metadata": {},
   "outputs": [
    {
     "name": "stdout",
     "output_type": "stream",
     "text": [
      "[[[False False False ... False False  True]\n",
      "  [False False False ... False False False]\n",
      "  [False False False ...  True False False]\n",
      "  ...\n",
      "  [ True False False ... False False False]\n",
      "  [False False False ... False False False]\n",
      "  [False False False ... False False False]]\n",
      "\n",
      " [[False False False ... False False False]\n",
      "  [False False False ... False False False]\n",
      "  [False False False ... False False False]\n",
      "  ...\n",
      "  [ True False False ... False False False]\n",
      "  [ True False False ... False False False]\n",
      "  [False False False ... False False False]]\n",
      "\n",
      " [[False False False ... False False False]\n",
      "  [False False False ... False False False]\n",
      "  [False False False ... False False False]\n",
      "  ...\n",
      "  [False False False ... False False False]\n",
      "  [False  True False ... False False False]\n",
      "  [False False False ... False False False]]]\n",
      "[[ True False False False False False False False False False False False\n",
      "  False False False False False False False False False False False False\n",
      "  False False False False False False False False False False False False\n",
      "  False False False False False False False False False False False False\n",
      "  False False False False False False False False False False False]\n",
      " [False False False False False False False False False False False False\n",
      "  False False False False False False False False False False False False\n",
      "  False False False False False False False False False False False False\n",
      "  False False False  True False False False False False False False False\n",
      "  False False False False False False False False False False False]\n",
      " [False False False False False False False False False False False False\n",
      "  False False False False False False False False False False False False\n",
      "  False False False False False False False False  True False False False\n",
      "  False False False False False False False False False False False False\n",
      "  False False False False False False False False False False False]]\n"
     ]
    }
   ],
   "source": [
    "print(x[:3])\n",
    "print(y[:3])"
   ]
  },
  {
   "cell_type": "markdown",
   "metadata": {},
   "source": [
    "## Building Model"
   ]
  },
  {
   "cell_type": "code",
   "execution_count": 10,
   "metadata": {},
   "outputs": [],
   "source": [
    "model = Sequential()\n",
    "model.add(LSTM(128, input_shape=(maxlen, len(chars))))\n",
    "model.add(Dense(len(chars)))\n",
    "model.add(Activation('softmax'))"
   ]
  },
  {
   "cell_type": "code",
   "execution_count": 11,
   "metadata": {},
   "outputs": [],
   "source": [
    "optimizer = RMSprop(lr=0.01)\n",
    "model.compile(loss='categorical_crossentropy', optimizer=optimizer)"
   ]
  },
  {
   "cell_type": "markdown",
   "metadata": {},
   "source": [
    "## Helper Functions"
   ]
  },
  {
   "cell_type": "code",
   "execution_count": 13,
   "metadata": {},
   "outputs": [],
   "source": [
    "def sample(preds, temperature=1.0):\n",
    "    # helper function to sample an index from a probability array\n",
    "    preds = np.asarray(preds).astype('float64')\n",
    "    preds = np.log(preds) / temperature\n",
    "    exp_preds = np.exp(preds)\n",
    "    preds = exp_preds / np.sum(exp_preds)\n",
    "    probas = np.random.multinomial(1, preds, 1)\n",
    "    return np.argmax(probas)"
   ]
  },
  {
   "cell_type": "code",
   "execution_count": 14,
   "metadata": {},
   "outputs": [],
   "source": [
    "def on_epoch_end(epoch, logs):\n",
    "    # Function invoked at end of each epoch. Prints generated text.\n",
    "    print()\n",
    "    print('----- Generating text after Epoch: %d' % epoch)\n",
    "\n",
    "    start_index = random.randint(0, len(text) - maxlen - 1)\n",
    "    for diversity in [0.2, 0.5, 1.0, 1.2]:\n",
    "        print('----- diversity:', diversity)\n",
    "\n",
    "        generated = ''\n",
    "        sentence = text[start_index: start_index + maxlen]\n",
    "        generated += sentence\n",
    "        print('----- Generating with seed: \"' + sentence + '\"')\n",
    "        sys.stdout.write(generated)\n",
    "\n",
    "        for i in range(400):\n",
    "            x_pred = np.zeros((1, maxlen, len(chars)))\n",
    "            for t, char in enumerate(sentence):\n",
    "                x_pred[0, t, char_indices[char]] = 1.\n",
    "\n",
    "            preds = model.predict(x_pred, verbose=0)[0]\n",
    "            next_index = sample(preds, diversity)\n",
    "            next_char = indices_char[next_index]\n",
    "\n",
    "            generated += next_char\n",
    "            sentence = sentence[1:] + next_char\n",
    "\n",
    "            sys.stdout.write(next_char)\n",
    "            sys.stdout.flush()\n",
    "        print()\n",
    "print_callback = LambdaCallback(on_epoch_end=on_epoch_end)"
   ]
  },
  {
   "cell_type": "code",
   "execution_count": 15,
   "metadata": {},
   "outputs": [],
   "source": [
    "from keras.callbacks import ModelCheckpoint\n",
    "\n",
    "filepath = \"weights.hdf5\"\n",
    "checkpoint = ModelCheckpoint(filepath, monitor='loss',\n",
    "                             verbose=1, save_best_only=True,\n",
    "                             mode='min')"
   ]
  },
  {
   "cell_type": "code",
   "execution_count": 16,
   "metadata": {},
   "outputs": [],
   "source": [
    "from keras.callbacks import ReduceLROnPlateau\n",
    "reduce_lr = ReduceLROnPlateau(monitor='loss', factor=0.2,\n",
    "                              patience=1, min_lr=0.001)"
   ]
  },
  {
   "cell_type": "code",
   "execution_count": 17,
   "metadata": {},
   "outputs": [],
   "source": [
    "callbacks = [print_callback, checkpoint, reduce_lr]"
   ]
  },
  {
   "cell_type": "code",
   "execution_count": 18,
   "metadata": {},
   "outputs": [
    {
     "name": "stdout",
     "output_type": "stream",
     "text": [
      "Epoch 1/5\n",
      "187271/187271 [==============================] - 225s 1ms/step - loss: 1.9731\n",
      "\n",
      "----- Generating text after Epoch: 0\n",
      "----- diversity: 0.2\n",
      "----- Generating with seed: \"lge\n",
      "on the right side of his top-hat to \"\n",
      "lge\n",
      "on the right side of his top-hat to he wise as the bore with the stor and string that i was a bile that i was a contion with the man with the hadd and the striet with the striet in the stries in the struttle and the striet with the strange with the man with the struttle with the stratter with the striet with the street with the striet which when she with the strunt of the stright of my stright of the string that i shall had been whi\n",
      "----- diversity: 0.5\n",
      "----- Generating with seed: \"lge\n",
      "on the right side of his top-hat to \"\n",
      "lge\n",
      "on the right side of his top-hat to he had putting the stratce, and that is street in the striet man would not the stepe which we had been of the strude\n",
      "in our in my step withinst in some with the hudied that in had a had become and the corted to a give with his right with a comon was and confice my could to my sule i was and shugher. i little which a sitter and the site my dippene with a chair drive to be but the some his site with\n",
      "----- diversity: 1.0\n",
      "----- Generating with seed: \"lge\n",
      "on the right side of his top-hat to \"\n",
      "lge\n",
      "on the right side of his top-hat to the is with a\n",
      "vichatisult holmes doen the livul the theutt and ladgened\n",
      "light this prsetcefting and dettor in prion mucausiniot fullyjull in unease,\" \n",
      "lieved as me that so? mirst with when i\n",
      "found his\n",
      "steft my wat whatry gight in make, and is thiss! whe, eresing sebt\n",
      "strine sheet night yould well ternisiny enging\n",
      "deary cas lion on my. but. she would lady with his others what may my\n",
      "byone purty us \n",
      "----- diversity: 1.2\n",
      "----- Generating with seed: \"lge\n",
      "on the right side of his top-hat to \"\n",
      "lge\n",
      "on the right side of his top-hat to gw. with i\n",
      "laar. soman sefhish was with so. put the will nat in his buteinctlm.\n",
      "mry.\n",
      "bneautipy inhich.\" \n",
      "said wide?\"\n",
      "\n",
      "\"byd.\"\n",
      "\n",
      "\"mavys\n",
      "the much thmle frimt whan with as untito andwo futt, and\n",
      "my burlinctt wifs hudding\n",
      "oneq to alopt of ahed iilinglay with runans.\"\n",
      "\n",
      "\"no-nurchanse quitry, said did this to?\"\n",
      "\n",
      "sconty greepquage.\"\n",
      "\n",
      "\n",
      "for litel ut of channy\n",
      "up, sthirs chatus, \"bhough mry fremlionhly, sull n\n",
      "\n",
      "Epoch 00001: loss improved from inf to 1.97305, saving model to weights.hdf5\n",
      "Epoch 2/5\n",
      "187271/187271 [==============================] - 168s 896us/step - loss: 1.6331\n",
      "\n",
      "----- Generating text after Epoch: 1\n",
      "----- diversity: 0.2\n",
      "----- Generating with seed: \"fice.\"\n",
      "\n",
      "\"your experience has been a most\"\n",
      "fice.\"\n",
      "\n",
      "\"your experience has been a most had and the stable and a street of the lady of the case and the street and the stable in the state which i have not the lady and the morning which i have been the converstion we had an onged the shall be and a stands and the man were the passes of the stands and the street. the stall and a street of the lady of the street of the man with a street of the stand and the street which i have not the s\n",
      "----- diversity: 0.5\n",
      "----- Generating with seed: \"fice.\"\n",
      "\n",
      "\"your experience has been a most\"\n",
      "fice.\"\n",
      "\n",
      "\"your experience has been a most staded in the rather her begn heard in the simon we had and a sudden here is the rang looking the morning had been the head to have the red street who had dread the somp in the band and learn that i have been not from me was a shear little room, and he was on i shall heard i could a sen that i preming in the boffor, and a little very hards of my crient were that you know, but he had not such befo\n",
      "----- diversity: 1.0\n",
      "----- Generating with seed: \"fice.\"\n",
      "\n",
      "\"your experience has been a most\"\n",
      "fice.\"\n",
      "\n",
      "\"your experience has been a most diriaved bohs that\n",
      "ones were\n",
      "thret paper that erthing your other laig-sepent of\n",
      "the rover at an -dound, red-castonly hand that thenk is. spep\n",
      "tweety by the ails a manted a gred mechergly besper to have the matter. you fell, for\n",
      "a letter\n",
      "abyon\n",
      "hid threa heady im which suldil always he worg rimath\"  pracae-s\n",
      "stapped sbock his  wors closity inself upon my drown dingol me,\n",
      "now?\"\n",
      "\n",
      "\"and and a wear, is \n",
      "----- diversity: 1.2\n",
      "----- Generating with seed: \"fice.\"\n",
      "\n",
      "\"your experience has been a most\"\n",
      "fice.\"\n",
      "\n",
      "\"your experience has been a most well ab:gred ow\n",
      "duping the papedagears fage\n",
      "give.\"\n",
      "\n",
      "\"led, retaveres!\" had witho\".\n",
      "s,ont door, the this\n",
      "youth stouty\n",
      "englamp an ovcicandly unter heam and heard restmetion in desect me. i vold, where he rang used\n",
      "in.\n",
      "\n",
      "no she dear im some extimar chone ewpyment chuck which itserfew his gronicust. the mone hal the, for wit of it amureily an fgew,\n",
      "exter whice! ort was not abmest to you, mysel than nec\n",
      "\n",
      "Epoch 00002: loss improved from 1.97305 to 1.63308, saving model to weights.hdf5\n",
      "Epoch 3/5\n",
      "187271/187271 [==============================] - 163s 868us/step - loss: 1.5340\n",
      "\n",
      "----- Generating text after Epoch: 2\n",
      "----- diversity: 0.2\n",
      "----- Generating with seed: \"y son himself indicated--that of the cup\"\n",
      "y son himself indicated--that of the cupperself the lady was a short the matter. i should not came the matter in the man, and the little this man, i have been the langer with the chair the thing the connation. i should not have the briek of the thing the lady of the ready of\n",
      "the lady of\n",
      "the matter of\n",
      "his short the lant the langer the little this that i have been the man which i have been the langer. i have been a long the left his shoul\n",
      "----- diversity: 0.5\n",
      "----- Generating with seed: \"y son himself indicated--that of the cup\"\n",
      "y son himself indicated--that of the cupt in the ready.'\n",
      "\n",
      "\"'i am it the hands she had heard the papsion in the little destracted and the\n",
      "matter. i must go new they was not this in the face and have been one the little in the little lantly in the little and she will not a should one nothing and\n",
      "was a side of\n",
      "the little start in the conninting and chance, in the table in the night the matter that i am be all the shorts that i have a inter\n",
      "----- diversity: 1.0\n",
      "----- Generating with seed: \"y son himself indicated--that of the cup\"\n",
      "y son himself indicated--that of the cuppracion sbears the cluy to thin very on\n",
      "the briterngint be the shar just reed his fadt thery madies in thim\n",
      "goon, i suedent neminad, hes\n",
      "\n",
      "in?\" destitian at sorethlene. i invishally fad hand her is\n",
      "and\n",
      "bake it in the\n",
      "ordervate. that we tin, and had no a\n",
      ",ia, when he asked in the friend chink, caped that when havened is don't i\n",
      "fourthanour cramr pais, he, amiabs. however, i, they had\n",
      "under your mi h\n",
      "----- diversity: 1.2\n",
      "----- Generating with seed: \"y son himself indicated--that of the cup\"\n",
      "y son himself indicated--that of the cup sisnable, paper. \"i not suet.\"\n",
      "\n",
      "\"and on the front nagned!\" said he you see name,\n",
      "and they spoket builqvent of\n",
      "lecuretreet, and thas aidhesstypomineslit forthes laet deed the little, as aftermis,\n",
      "which as the lance. and\n",
      "tq-ramor and\n",
      "them,\n",
      "however call. bust in. \n",
      "efaits\n",
      "to coarns and\n",
      "hather, he\n",
      "hell must ever the niga thim\n",
      "man will never wasterelinite of theraceble snare a vagut matter\n",
      "windowtorden\n",
      "\n",
      "Epoch 00003: loss improved from 1.63308 to 1.53404, saving model to weights.hdf5\n",
      "Epoch 4/5\n",
      "187271/187271 [==============================] - 163s 869us/step - loss: 1.4823\n",
      "\n",
      "----- Generating text after Epoch: 3\n",
      "----- diversity: 0.2\n",
      "----- Generating with seed: \"ated\n",
      "visits? was she his client, his fri\"\n",
      "ated\n",
      "visits? was she his client, his friend to me to think that it was to be to think than this bell that i was come of the streets and was an ard the strange of the singul of the strange of the strange streets and a strange strange of the matter of the strange of a singular for the strange of the simple of this stand and the strange of a grass which i shall be to think that i was fellow street. i have been was all this belled to think \n",
      "----- diversity: 0.5\n",
      "----- Generating with seed: \"ated\n",
      "visits? was she his client, his fri\"\n",
      "ated\n",
      "visits? was she his client, his friy save him in the word strange of this face for the grass. we was commanes with the sthriend had clance in fear for clear so brieng than this passed of his learne clatter botton having coming and think, which i were loss a precacion of the other stoning which i was clear this a caper than this learned better before, when i had a clied.\"\n",
      "\n"
     ]
    },
    {
     "name": "stdout",
     "output_type": "stream",
     "text": [
      "\"yes, who was carries of the simple of this son, and then he\n",
      "----- diversity: 1.0\n",
      "----- Generating with seed: \"ated\n",
      "visits? was she his client, his fri\"\n",
      "ated\n",
      "visits? was she his client, his friend. he wild fat, i have faint\n",
      "on my dest paspen edganed to wateral my him wat\n",
      "bowed examess. all this one proffesent was as a roneay reasisied to go dad now young time as my sent in  thinkful divinusing st\"by colinally would i so did in the firstreatfuldy of\n",
      "very allting. i ary\n",
      "b, position was evid take might upon the carrys untal excahed? then he must know your crivance, or now. where we can tha\n",
      "----- diversity: 1.2\n",
      "----- Generating with seed: \"ated\n",
      "visits? was she his client, his fri\"\n",
      "ated\n",
      "visits? was she his client, his frist-, harrarcing hax not fear a mituter.\"\n",
      "\n",
      "\"pelestodiale i\n",
      "cromfor of is? otherter at to be toirfowidy\n",
      "like a bew man of\n",
      "vullen' head buck\"is\n",
      "was tote kins which i should lro. kand,\n",
      "'grew iselisle to uror vury, we can to think i awarmed. i out. but in felfeary wor us. did.\"\n",
      "\n",
      "\"you cannot only to be wast in the hrogible\n",
      "grown. i answered\n",
      "holmes whis fulternive went, but de air connet mir geverday won\n",
      "\n",
      "Epoch 00004: loss improved from 1.53404 to 1.48233, saving model to weights.hdf5\n",
      "Epoch 5/5\n",
      "187271/187271 [==============================] - 179s 954us/step - loss: 1.4482\n",
      "\n",
      "----- Generating text after Epoch: 4\n",
      "----- diversity: 0.2\n",
      "----- Generating with seed: \"when\n",
      "i came upstairs there was the key i\"\n",
      "when\n",
      "i came upstairs there was the key in the compants and the street. the compant and a man which i shall be a probled to the compants in a man which i shall be a point and a sound and a colour to a sount and a some of the lady of the are to be a man of the pressing at the case of the companion of the commits of the commins of the compants and the compants of the compant in the companion of the lady, and i shall see that i could he was\n",
      "----- diversity: 0.5\n",
      "----- Generating with seed: \"when\n",
      "i came upstairs there was the key i\"\n",
      "when\n",
      "i came upstairs there was the key in the marker, and i shall see you he was no most start of a shourt of presuctly, and i had a some bent opers to presents and he said to the cornate at the case at his paper, and the eyes were such to the police of the proproprocious.\"\n",
      "\n",
      "\"i shall be been be a pressed to be all her to be a little to black and given to be was a possible hardly destretive the dark man's were for the man which i was no \n",
      "----- diversity: 1.0\n",
      "----- Generating with seed: \"when\n",
      "i came upstairs there was the key i\"\n",
      "when\n",
      "i came upstairs there was the key in the accountran to a word, there iserectity, as i are noy some to grew by averstancy, a. to the grips dittor, a frinied. they have selfn but that ml, it cal\n",
      "mind as terved,\" said i. he cut a little hear's to\n",
      "tent\n",
      "chair as sank luce to observe to love you occrair upon the stope carbuncred. in his felt\n",
      "sound. over that warting openshe chanped bernenticies sumseatisnicing. holdel.\n",
      "\n",
      "\"\"it lear each? t\n",
      "----- diversity: 1.2\n",
      "----- Generating with seed: \"when\n",
      "i came upstairs there was the key i\"\n",
      "when\n",
      "i came upstairs there was the key inway in, shim, mr. his\n",
      "mary\n",
      "after adlan with me stall\n",
      "even humbatic fifue one 'son-tall\n",
      "aspere.\n",
      "\n",
      "\"chesseccimor of at tri elwatute it non, waster,\n",
      " y one to it in nanuue to leittes\n",
      "htarn, the  all was\n",
      "not you remaling in araucry.\"\n",
      "\n",
      "\"aad' in choty harrige hardn's case\n",
      "very hay 'suck, and i ben may heard evil bescars, when it is ret yson\" serminal led\n",
      "chaened you wnists, each\n",
      "to aboutstimuth. ihered \n",
      "\n",
      "Epoch 00005: loss improved from 1.48233 to 1.44823, saving model to weights.hdf5\n"
     ]
    },
    {
     "data": {
      "text/plain": [
       "<keras.callbacks.History at 0x1b1eca91240>"
      ]
     },
     "execution_count": 18,
     "metadata": {},
     "output_type": "execute_result"
    }
   ],
   "source": [
    "model.fit(x, y, batch_size=128, epochs=5, callbacks=callbacks)"
   ]
  },
  {
   "cell_type": "code",
   "execution_count": 19,
   "metadata": {},
   "outputs": [],
   "source": [
    "def generate_text(length, diversity):\n",
    "    # Get random starting text\n",
    "    start_index = random.randint(0, len(text) - maxlen - 1)\n",
    "    generated = ''\n",
    "    sentence = text[start_index: start_index + maxlen]\n",
    "    generated += sentence\n",
    "    for i in range(length):\n",
    "            x_pred = np.zeros((1, maxlen, len(chars)))\n",
    "            for t, char in enumerate(sentence):\n",
    "                x_pred[0, t, char_indices[char]] = 1.\n",
    "\n",
    "            preds = model.predict(x_pred, verbose=0)[0]\n",
    "            next_index = sample(preds, diversity)\n",
    "            next_char = indices_char[next_index]\n",
    "\n",
    "            generated += next_char\n",
    "            sentence = sentence[1:] + next_char\n",
    "    return generated"
   ]
  },
  {
   "cell_type": "code",
   "execution_count": 20,
   "metadata": {},
   "outputs": [
    {
     "name": "stdout",
     "output_type": "stream",
     "text": [
      " of something akin to fear had begun\n",
      "to be a sount of his door and a man in the man of the compants and the commins of the compants of the street. i could he could he married him to be a man which i had a sound of the compant and a street in the compants of the companion, and the country of the little to come and the companion and looked at the street. i have a man which i shall be a man of the comminstance to a some of the man which i could he said to the house of the commins and the man of street in the country and a sound and the c\n"
     ]
    }
   ],
   "source": [
    "print(generate_text(500, 0.2))"
   ]
  }
 ],
 "metadata": {
  "kernelspec": {
   "display_name": "Python 3",
   "language": "python",
   "name": "python3"
  },
  "language_info": {
   "codemirror_mode": {
    "name": "ipython",
    "version": 3
   },
   "file_extension": ".py",
   "mimetype": "text/x-python",
   "name": "python",
   "nbconvert_exporter": "python",
   "pygments_lexer": "ipython3",
   "version": "3.6.6"
  }
 },
 "nbformat": 4,
 "nbformat_minor": 2
}

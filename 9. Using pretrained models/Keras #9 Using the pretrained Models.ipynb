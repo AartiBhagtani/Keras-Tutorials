{
 "cells": [
  {
   "cell_type": "markdown",
   "metadata": {},
   "source": [
    "## Keras #9 Using the pretrained Models\n",
    "![](data:image/png;base64,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)"
   ]
  },
  {
   "cell_type": "code",
   "execution_count": 1,
   "metadata": {},
   "outputs": [
    {
     "name": "stderr",
     "output_type": "stream",
     "text": [
      "Using TensorFlow backend.\n"
     ]
    }
   ],
   "source": [
    "from keras.applications.resnet50 import ResNet50\n",
    "from keras.preprocessing import image\n",
    "from keras.applications.resnet50 import preprocess_input, decode_predictions\n",
    "import numpy as np\n",
    "\n",
    "# load model\n",
    "model = ResNet50(weights='imagenet')"
   ]
  },
  {
   "cell_type": "markdown",
   "metadata": {},
   "source": [
    "![](elephant.jpg)"
   ]
  },
  {
   "cell_type": "code",
   "execution_count": 2,
   "metadata": {},
   "outputs": [],
   "source": [
    "img_path = 'elephant.jpg'\n",
    "img = image.load_img(img_path, target_size=(224, 224))\n",
    "x = image.img_to_array(img)\n",
    "x = np.expand_dims(x, axis=0)\n",
    "x = preprocess_input(x)"
   ]
  },
  {
   "cell_type": "code",
   "execution_count": 3,
   "metadata": {},
   "outputs": [
    {
     "name": "stdout",
     "output_type": "stream",
     "text": [
      "Predicted: [('n01871265', 'tusker', 0.55558306), ('n02504013', 'Indian_elephant', 0.37132487), ('n02504458', 'African_elephant', 0.052745536), ('n02437312', 'Arabian_camel', 0.0067960923), ('n02408429', 'water_buffalo', 0.00518526)]\n"
     ]
    }
   ],
   "source": [
    "prediction = model.predict(x)\n",
    "\n",
    "print('Predicted:', decode_predictions(prediction, top=5)[0])"
   ]
  },
  {
   "cell_type": "markdown",
   "metadata": {},
   "source": [
    "## Extract layers and features"
   ]
  },
  {
   "cell_type": "code",
   "execution_count": 4,
   "metadata": {},
   "outputs": [
    {
     "name": "stdout",
     "output_type": "stream",
     "text": [
      "_________________________________________________________________\n",
      "Layer (type)                 Output Shape              Param #   \n",
      "=================================================================\n",
      "input_2 (InputLayer)         (None, 224, 224, 3)       0         \n",
      "_________________________________________________________________\n",
      "block1_conv1 (Conv2D)        (None, 224, 224, 64)      1792      \n",
      "_________________________________________________________________\n",
      "block1_conv2 (Conv2D)        (None, 224, 224, 64)      36928     \n",
      "_________________________________________________________________\n",
      "block1_pool (MaxPooling2D)   (None, 112, 112, 64)      0         \n",
      "_________________________________________________________________\n",
      "block2_conv1 (Conv2D)        (None, 112, 112, 128)     73856     \n",
      "_________________________________________________________________\n",
      "block2_conv2 (Conv2D)        (None, 112, 112, 128)     147584    \n",
      "_________________________________________________________________\n",
      "block2_pool (MaxPooling2D)   (None, 56, 56, 128)       0         \n",
      "_________________________________________________________________\n",
      "block3_conv1 (Conv2D)        (None, 56, 56, 256)       295168    \n",
      "_________________________________________________________________\n",
      "block3_conv2 (Conv2D)        (None, 56, 56, 256)       590080    \n",
      "_________________________________________________________________\n",
      "block3_conv3 (Conv2D)        (None, 56, 56, 256)       590080    \n",
      "_________________________________________________________________\n",
      "block3_conv4 (Conv2D)        (None, 56, 56, 256)       590080    \n",
      "_________________________________________________________________\n",
      "block3_pool (MaxPooling2D)   (None, 28, 28, 256)       0         \n",
      "_________________________________________________________________\n",
      "block4_conv1 (Conv2D)        (None, 28, 28, 512)       1180160   \n",
      "_________________________________________________________________\n",
      "block4_conv2 (Conv2D)        (None, 28, 28, 512)       2359808   \n",
      "_________________________________________________________________\n",
      "block4_conv3 (Conv2D)        (None, 28, 28, 512)       2359808   \n",
      "_________________________________________________________________\n",
      "block4_conv4 (Conv2D)        (None, 28, 28, 512)       2359808   \n",
      "_________________________________________________________________\n",
      "block4_pool (MaxPooling2D)   (None, 14, 14, 512)       0         \n",
      "_________________________________________________________________\n",
      "block5_conv1 (Conv2D)        (None, 14, 14, 512)       2359808   \n",
      "_________________________________________________________________\n",
      "block5_conv2 (Conv2D)        (None, 14, 14, 512)       2359808   \n",
      "_________________________________________________________________\n",
      "block5_conv3 (Conv2D)        (None, 14, 14, 512)       2359808   \n",
      "_________________________________________________________________\n",
      "block5_conv4 (Conv2D)        (None, 14, 14, 512)       2359808   \n",
      "_________________________________________________________________\n",
      "block5_pool (MaxPooling2D)   (None, 7, 7, 512)         0         \n",
      "_________________________________________________________________\n",
      "flatten (Flatten)            (None, 25088)             0         \n",
      "_________________________________________________________________\n",
      "fc1 (Dense)                  (None, 4096)              102764544 \n",
      "_________________________________________________________________\n",
      "fc2 (Dense)                  (None, 4096)              16781312  \n",
      "_________________________________________________________________\n",
      "predictions (Dense)          (None, 1000)              4097000   \n",
      "=================================================================\n",
      "Total params: 143,667,240\n",
      "Trainable params: 143,667,240\n",
      "Non-trainable params: 0\n",
      "_________________________________________________________________\n"
     ]
    }
   ],
   "source": [
    "from keras.models import Model\n",
    "from keras.applications.vgg19 import VGG19\n",
    "\n",
    "base_model = VGG19(weights='imagenet')\n",
    "base_model.summary()"
   ]
  },
  {
   "cell_type": "code",
   "execution_count": 5,
   "metadata": {},
   "outputs": [
    {
     "name": "stdout",
     "output_type": "stream",
     "text": [
      "_________________________________________________________________\n",
      "Layer (type)                 Output Shape              Param #   \n",
      "=================================================================\n",
      "input_2 (InputLayer)         (None, 224, 224, 3)       0         \n",
      "_________________________________________________________________\n",
      "block1_conv1 (Conv2D)        (None, 224, 224, 64)      1792      \n",
      "_________________________________________________________________\n",
      "block1_conv2 (Conv2D)        (None, 224, 224, 64)      36928     \n",
      "_________________________________________________________________\n",
      "block1_pool (MaxPooling2D)   (None, 112, 112, 64)      0         \n",
      "_________________________________________________________________\n",
      "block2_conv1 (Conv2D)        (None, 112, 112, 128)     73856     \n",
      "_________________________________________________________________\n",
      "block2_conv2 (Conv2D)        (None, 112, 112, 128)     147584    \n",
      "_________________________________________________________________\n",
      "block2_pool (MaxPooling2D)   (None, 56, 56, 128)       0         \n",
      "_________________________________________________________________\n",
      "block3_conv1 (Conv2D)        (None, 56, 56, 256)       295168    \n",
      "_________________________________________________________________\n",
      "block3_conv2 (Conv2D)        (None, 56, 56, 256)       590080    \n",
      "_________________________________________________________________\n",
      "block3_conv3 (Conv2D)        (None, 56, 56, 256)       590080    \n",
      "_________________________________________________________________\n",
      "block3_conv4 (Conv2D)        (None, 56, 56, 256)       590080    \n",
      "_________________________________________________________________\n",
      "block3_pool (MaxPooling2D)   (None, 28, 28, 256)       0         \n",
      "_________________________________________________________________\n",
      "block4_conv1 (Conv2D)        (None, 28, 28, 512)       1180160   \n",
      "_________________________________________________________________\n",
      "block4_conv2 (Conv2D)        (None, 28, 28, 512)       2359808   \n",
      "_________________________________________________________________\n",
      "block4_conv3 (Conv2D)        (None, 28, 28, 512)       2359808   \n",
      "_________________________________________________________________\n",
      "block4_conv4 (Conv2D)        (None, 28, 28, 512)       2359808   \n",
      "_________________________________________________________________\n",
      "block4_pool (MaxPooling2D)   (None, 14, 14, 512)       0         \n",
      "_________________________________________________________________\n",
      "block5_conv1 (Conv2D)        (None, 14, 14, 512)       2359808   \n",
      "_________________________________________________________________\n",
      "block5_conv2 (Conv2D)        (None, 14, 14, 512)       2359808   \n",
      "_________________________________________________________________\n",
      "block5_conv3 (Conv2D)        (None, 14, 14, 512)       2359808   \n",
      "_________________________________________________________________\n",
      "block5_conv4 (Conv2D)        (None, 14, 14, 512)       2359808   \n",
      "_________________________________________________________________\n",
      "block5_pool (MaxPooling2D)   (None, 7, 7, 512)         0         \n",
      "=================================================================\n",
      "Total params: 20,024,384\n",
      "Trainable params: 20,024,384\n",
      "Non-trainable params: 0\n",
      "_________________________________________________________________\n"
     ]
    }
   ],
   "source": [
    "model = Model(inputs=base_model.input, outputs=base_model.get_layer('block5_pool').output)\n",
    "model.summary()"
   ]
  },
  {
   "cell_type": "code",
   "execution_count": 6,
   "metadata": {},
   "outputs": [
    {
     "data": {
      "text/plain": [
       "array([[[[ 10.003585  ,   0.        ,   0.        , ...,   0.        ,\n",
       "           10.357618  ,   0.        ],\n",
       "         [  0.        ,   0.        ,   0.        , ...,   0.        ,\n",
       "           11.656241  ,   0.        ],\n",
       "         [  0.        ,   0.        ,   0.        , ...,   0.        ,\n",
       "            0.        ,   0.        ],\n",
       "         ...,\n",
       "         [  0.31845877,   0.        ,   0.        , ...,   0.        ,\n",
       "            0.        ,   0.        ],\n",
       "         [ 11.792924  ,   0.        ,   0.        , ...,   0.        ,\n",
       "            0.        ,   0.        ],\n",
       "         [ 13.626473  ,   0.        ,   0.        , ...,   0.        ,\n",
       "            0.        ,   0.        ]],\n",
       "\n",
       "        [[ 22.895048  ,   0.        ,   0.        , ...,   0.        ,\n",
       "            9.34225   ,   0.        ],\n",
       "         [ 11.856315  ,   0.        ,   0.        , ...,   0.        ,\n",
       "           12.923233  ,   0.        ],\n",
       "         [106.01637   ,   0.        ,   4.595769  , ...,   0.        ,\n",
       "            0.        ,  14.684611  ],\n",
       "         ...,\n",
       "         [ 55.31626   ,   0.        ,   2.5871396 , ...,   0.        ,\n",
       "            0.        ,   0.        ],\n",
       "         [  0.20635766,   0.        ,   0.        , ...,   0.        ,\n",
       "            0.        ,   0.        ],\n",
       "         [  1.2206604 ,   0.        ,   0.        , ...,   0.        ,\n",
       "            0.        ,   0.        ]],\n",
       "\n",
       "        [[ 17.246689  ,   0.        ,   0.        , ...,   0.        ,\n",
       "            4.58822   ,   0.        ],\n",
       "         [ 12.729474  ,   0.        ,   0.        , ...,   0.        ,\n",
       "            9.579661  ,  15.640379  ],\n",
       "         [ 89.86506   ,   0.        ,   0.        , ...,   0.        ,\n",
       "            0.        ,  29.624058  ],\n",
       "         ...,\n",
       "         [ 25.915596  ,   0.        ,   5.2782936 , ...,   0.        ,\n",
       "            1.6101081 ,   0.        ],\n",
       "         [ 11.065771  ,   0.        ,   7.2204604 , ...,   0.        ,\n",
       "            6.4873357 ,   0.        ],\n",
       "         [ 12.551753  ,  16.241718  ,   0.        , ...,   0.        ,\n",
       "            5.6537485 ,   0.        ]],\n",
       "\n",
       "        ...,\n",
       "\n",
       "        [[ 26.20474   ,   0.        ,   0.        , ...,   0.        ,\n",
       "            0.        ,   0.        ],\n",
       "         [ 16.32535   ,   0.        ,   0.        , ...,   0.        ,\n",
       "            0.11541975,   5.8336763 ],\n",
       "         [  0.        ,   0.        ,   0.        , ...,   0.        ,\n",
       "            0.        ,  36.430397  ],\n",
       "         ...,\n",
       "         [  0.        ,   0.        ,   0.        , ...,   0.        ,\n",
       "            4.5679812 ,   0.        ],\n",
       "         [  0.        ,   0.        ,   0.        , ...,   0.        ,\n",
       "            3.4920964 ,   0.        ],\n",
       "         [  7.480033  ,   0.        ,   0.        , ...,   0.        ,\n",
       "            4.2580338 ,   0.        ]],\n",
       "\n",
       "        [[  0.        ,   0.        ,   0.        , ...,   0.        ,\n",
       "           15.451692  ,   0.        ],\n",
       "         [  0.        ,   0.        ,   0.        , ...,   0.        ,\n",
       "           10.276802  ,   0.        ],\n",
       "         [  0.        ,   0.        ,   0.        , ...,   0.        ,\n",
       "            0.        ,   0.        ],\n",
       "         ...,\n",
       "         [  0.        ,   0.        ,   0.        , ...,   0.        ,\n",
       "            0.        ,   0.        ],\n",
       "         [  0.        ,   0.        ,   0.        , ...,   0.        ,\n",
       "           15.928331  ,   0.        ],\n",
       "         [  0.        ,   0.        ,   0.        , ...,   0.        ,\n",
       "           12.348501  ,   0.        ]],\n",
       "\n",
       "        [[ 36.50738   ,   0.        ,   0.        , ...,   0.        ,\n",
       "            7.180881  ,   0.        ],\n",
       "         [ 30.04692   ,   0.        ,   0.        , ...,   0.        ,\n",
       "           11.850065  ,   0.        ],\n",
       "         [ 32.344204  ,   0.        ,   0.        , ...,   0.        ,\n",
       "            0.        ,   0.        ],\n",
       "         ...,\n",
       "         [ 19.818789  ,   0.        ,   0.        , ...,   0.        ,\n",
       "            0.        ,   0.        ],\n",
       "         [ 13.182945  ,   0.        ,   0.        , ...,   0.        ,\n",
       "            0.        ,   0.        ],\n",
       "         [  9.7182665 ,   0.        ,   0.        , ...,   0.        ,\n",
       "            0.        ,   0.        ]]]], dtype=float32)"
      ]
     },
     "execution_count": 6,
     "metadata": {},
     "output_type": "execute_result"
    }
   ],
   "source": [
    "block5_pool_features = model.predict(x)\n",
    "block5_pool_features"
   ]
  },
  {
   "cell_type": "markdown",
   "metadata": {},
   "source": [
    "## Using pretrained layers for transfer-learning"
   ]
  },
  {
   "cell_type": "code",
   "execution_count": 7,
   "metadata": {},
   "outputs": [
    {
     "name": "stdout",
     "output_type": "stream",
     "text": [
      "_________________________________________________________________\n",
      "Layer (type)                 Output Shape              Param #   \n",
      "=================================================================\n",
      "input_3 (InputLayer)         (None, 256, 256, 3)       0         \n",
      "_________________________________________________________________\n",
      "block1_conv1 (Conv2D)        (None, 256, 256, 64)      1792      \n",
      "_________________________________________________________________\n",
      "block1_conv2 (Conv2D)        (None, 256, 256, 64)      36928     \n",
      "_________________________________________________________________\n",
      "block1_pool (MaxPooling2D)   (None, 128, 128, 64)      0         \n",
      "_________________________________________________________________\n",
      "block2_conv1 (Conv2D)        (None, 128, 128, 128)     73856     \n",
      "_________________________________________________________________\n",
      "block2_conv2 (Conv2D)        (None, 128, 128, 128)     147584    \n",
      "_________________________________________________________________\n",
      "block2_pool (MaxPooling2D)   (None, 64, 64, 128)       0         \n",
      "_________________________________________________________________\n",
      "block3_conv1 (Conv2D)        (None, 64, 64, 256)       295168    \n",
      "_________________________________________________________________\n",
      "block3_conv2 (Conv2D)        (None, 64, 64, 256)       590080    \n",
      "_________________________________________________________________\n",
      "block3_conv3 (Conv2D)        (None, 64, 64, 256)       590080    \n",
      "_________________________________________________________________\n",
      "block3_conv4 (Conv2D)        (None, 64, 64, 256)       590080    \n",
      "_________________________________________________________________\n",
      "block3_pool (MaxPooling2D)   (None, 32, 32, 256)       0         \n",
      "_________________________________________________________________\n",
      "block4_conv1 (Conv2D)        (None, 32, 32, 512)       1180160   \n",
      "_________________________________________________________________\n",
      "block4_conv2 (Conv2D)        (None, 32, 32, 512)       2359808   \n",
      "_________________________________________________________________\n",
      "block4_conv3 (Conv2D)        (None, 32, 32, 512)       2359808   \n",
      "_________________________________________________________________\n",
      "block4_conv4 (Conv2D)        (None, 32, 32, 512)       2359808   \n",
      "_________________________________________________________________\n",
      "block4_pool (MaxPooling2D)   (None, 16, 16, 512)       0         \n",
      "_________________________________________________________________\n",
      "block5_conv1 (Conv2D)        (None, 16, 16, 512)       2359808   \n",
      "_________________________________________________________________\n",
      "block5_conv2 (Conv2D)        (None, 16, 16, 512)       2359808   \n",
      "_________________________________________________________________\n",
      "block5_conv3 (Conv2D)        (None, 16, 16, 512)       2359808   \n",
      "_________________________________________________________________\n",
      "block5_conv4 (Conv2D)        (None, 16, 16, 512)       2359808   \n",
      "_________________________________________________________________\n",
      "block5_pool (MaxPooling2D)   (None, 8, 8, 512)         0         \n",
      "_________________________________________________________________\n",
      "flatten_1 (Flatten)          (None, 32768)             0         \n",
      "_________________________________________________________________\n",
      "dense_1 (Dense)              (None, 2048)              67110912  \n",
      "_________________________________________________________________\n",
      "dropout_1 (Dropout)          (None, 2048)              0         \n",
      "_________________________________________________________________\n",
      "dense_2 (Dense)              (None, 1024)              2098176   \n",
      "_________________________________________________________________\n",
      "dense_3 (Dense)              (None, 10)                10250     \n",
      "=================================================================\n",
      "Total params: 89,243,722\n",
      "Trainable params: 89,131,146\n",
      "Non-trainable params: 112,576\n",
      "_________________________________________________________________\n"
     ]
    }
   ],
   "source": [
    "from keras.layers import Flatten, Dense, Dropout\n",
    "\n",
    "base_model = VGG19(weights = \"imagenet\", include_top=False, input_shape = (256, 256, 3))\n",
    "\n",
    "for layer in base_model.layers[:5]:\n",
    "    layer.trainable = False\n",
    "\n",
    "# Adding custom layers\n",
    "x = base_model.output\n",
    "x = Flatten()(x)\n",
    "x = Dense(2048, activation='relu')(x)\n",
    "x = Dropout(0.3)(x)\n",
    "x = Dense(1024, activation='relu')(x)\n",
    "output = Dense(10, activation='softmax')(x)\n",
    "\n",
    "model = Model(inputs=base_model.input, outputs=output)\n",
    "model.summary()"
   ]
  }
 ],
 "metadata": {
  "kernelspec": {
   "display_name": "Python 3",
   "language": "python",
   "name": "python3"
  },
  "language_info": {
   "codemirror_mode": {
    "name": "ipython",
    "version": 3
   },
   "file_extension": ".py",
   "mimetype": "text/x-python",
   "name": "python",
   "nbconvert_exporter": "python",
   "pygments_lexer": "ipython3",
   "version": "3.6.7"
  }
 },
 "nbformat": 4,
 "nbformat_minor": 2
}

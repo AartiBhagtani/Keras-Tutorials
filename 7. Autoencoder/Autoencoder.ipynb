{
 "cells": [
  {
   "cell_type": "markdown",
   "metadata": {},
   "source": [
    "# Autoencoder\n",
    "![](https://blog.keras.io/img/ae/autoencoder_schema.jpg)"
   ]
  },
  {
   "cell_type": "markdown",
   "metadata": {},
   "source": [
    "This tutorial is based on the <a href=\"https://blog.keras.io/building-autoencoders-in-keras.html\">official Autoencoder tutorial</a> on the Keras blog created by <a href=\"https://twitter.com/fchollet\">Francois Chollet</a>. "
   ]
  },
  {
   "cell_type": "markdown",
   "metadata": {},
   "source": [
    "## What is an Autoencoder?\n",
    "\n",
    "An autoencoder is a type of artificial neural network which has the goal of learning the identity function. In other words it tries to copy its input to its output.\n",
    "\n",
    "### But why would we need this?\n",
    "\n",
    "If the only purpose of an autoencoder would be to try and copy the input it would be useless. But by placing constraints on the network we can discover interesting structures in the data.\n",
    "\n",
    "### What can you use it for?\n",
    "\n",
    "We can use an autoencoder for <b>data denoising</b>, <b>dimensionality reduction</b> as well as generating new data that is simular to the data we trained it on."
   ]
  },
  {
   "cell_type": "markdown",
   "metadata": {},
   "source": [
    "## Autoencoder in Keras\n",
    "\n",
    "Autoencoders can be build with multiple different neural network architectures like simple FFNN as well as CNN and RNN and Keras let's use implement all of them."
   ]
  },
  {
   "cell_type": "markdown",
   "metadata": {},
   "source": [
    "### Imports"
   ]
  },
  {
   "cell_type": "code",
   "execution_count": 1,
   "metadata": {},
   "outputs": [
    {
     "name": "stderr",
     "output_type": "stream",
     "text": [
      "Using TensorFlow backend.\n"
     ]
    }
   ],
   "source": [
    "import numpy as np\n",
    "import matplotlib.pyplot as plt\n",
    "\n",
    "from keras.layers import Input, Dense, Conv2D, MaxPooling2D, UpSampling2D, LSTM \n",
    "from keras.models import Model\n",
    "from keras.datasets import mnist"
   ]
  },
  {
   "cell_type": "markdown",
   "metadata": {},
   "source": [
    "### Loading in dataset"
   ]
  },
  {
   "cell_type": "code",
   "execution_count": 2,
   "metadata": {},
   "outputs": [
    {
     "name": "stdout",
     "output_type": "stream",
     "text": [
      "Training data shape: (60000, 784)\n",
      "Testing data shape: (10000, 784)\n"
     ]
    }
   ],
   "source": [
    "(x_train, y_train), (x_test, y_test) = mnist.load_data()\n",
    "del y_train\n",
    "del y_test\n",
    "\n",
    "# scale data between 0 and 1\n",
    "x_train = x_train.astype('float32') / 256\n",
    "x_test = x_test.astype('float32') / 256\n",
    "\n",
    "# Reshape data\n",
    "x_train = x_train.reshape(len(x_train), 28*28)\n",
    "x_test = x_test.reshape(len(x_test), 28*28)\n",
    "\n",
    "print('Training data shape:', x_train.shape)\n",
    "print('Testing data shape:', x_test.shape)"
   ]
  },
  {
   "cell_type": "markdown",
   "metadata": {},
   "source": [
    "### Simple autoencoder"
   ]
  },
  {
   "cell_type": "markdown",
   "metadata": {},
   "source": [
    "Let's start simple by creating an really simple autoencoder which tries to learn the identity function of the MNIST dataset."
   ]
  },
  {
   "cell_type": "code",
   "execution_count": 3,
   "metadata": {},
   "outputs": [],
   "source": [
    "input_layer = Input(shape=(784,))\n",
    "# encoded layer. compresses data by the factor 12.25 (784/64=12.25)\n",
    "encoded = Dense(64, activation='relu')(input_layer)\n",
    "# decoded layer. reconstructs the input (units are equal to the input dimension of the image)\n",
    "decoded = Dense(784, activation='sigmoid')(encoded)"
   ]
  },
  {
   "cell_type": "markdown",
   "metadata": {},
   "source": [
    "Creating models:"
   ]
  },
  {
   "cell_type": "code",
   "execution_count": 4,
   "metadata": {},
   "outputs": [],
   "source": [
    "# this model maps an input to its reconstruction\n",
    "autoencoder = Model(input_layer, decoded)"
   ]
  },
  {
   "cell_type": "code",
   "execution_count": 5,
   "metadata": {},
   "outputs": [],
   "source": [
    "# this model maps an input to its encoded representation\n",
    "encoder = Model(input_layer, encoded)"
   ]
  },
  {
   "cell_type": "code",
   "execution_count": 6,
   "metadata": {},
   "outputs": [],
   "source": [
    "# for the decoder we need to create an input layer which has the dimensionality of the encoded layer\n",
    "input_layer_dec = Input(shape=(64,))\n",
    "# retrieve the last layer of the autoencoder model and place it after the input layer\n",
    "decoder_layer = autoencoder.layers[-1](input_layer_dec)\n",
    "\n",
    "decoder = Model(input_layer_dec, decoder_layer)"
   ]
  },
  {
   "cell_type": "markdown",
   "metadata": {},
   "source": [
    "Configure and fit our autoencoder model:"
   ]
  },
  {
   "cell_type": "code",
   "execution_count": 7,
   "metadata": {},
   "outputs": [
    {
     "name": "stdout",
     "output_type": "stream",
     "text": [
      "Train on 60000 samples, validate on 10000 samples\n",
      "Epoch 1/50\n",
      "60000/60000 [==============================] - 4s 69us/step - loss: 0.3497 - val_loss: 0.2671\n",
      "Epoch 2/50\n",
      "60000/60000 [==============================] - 2s 31us/step - loss: 0.2567 - val_loss: 0.2425\n",
      "Epoch 3/50\n",
      "60000/60000 [==============================] - 1s 24us/step - loss: 0.2310 - val_loss: 0.2176\n",
      "Epoch 4/50\n",
      "60000/60000 [==============================] - 1s 24us/step - loss: 0.2098 - val_loss: 0.2001\n",
      "Epoch 5/50\n",
      "60000/60000 [==============================] - 1s 23us/step - loss: 0.1955 - val_loss: 0.1883\n",
      "Epoch 6/50\n",
      "60000/60000 [==============================] - 1s 23us/step - loss: 0.1852 - val_loss: 0.1794\n",
      "Epoch 7/50\n",
      "60000/60000 [==============================] - 1s 24us/step - loss: 0.1772 - val_loss: 0.1723\n",
      "Epoch 8/50\n",
      "60000/60000 [==============================] - 1s 23us/step - loss: 0.1705 - val_loss: 0.1661\n",
      "Epoch 9/50\n",
      "60000/60000 [==============================] - 1s 24us/step - loss: 0.1647 - val_loss: 0.1607\n",
      "Epoch 10/50\n",
      "60000/60000 [==============================] - 1s 24us/step - loss: 0.1595 - val_loss: 0.1557\n",
      "Epoch 11/50\n",
      "60000/60000 [==============================] - 1s 23us/step - loss: 0.1549 - val_loss: 0.1513\n",
      "Epoch 12/50\n",
      "60000/60000 [==============================] - 1s 23us/step - loss: 0.1506 - val_loss: 0.1472\n",
      "Epoch 13/50\n",
      "60000/60000 [==============================] - 1s 24us/step - loss: 0.1467 - val_loss: 0.1434\n",
      "Epoch 14/50\n",
      "60000/60000 [==============================] - 1s 24us/step - loss: 0.1431 - val_loss: 0.1399\n",
      "Epoch 15/50\n",
      "60000/60000 [==============================] - 1s 23us/step - loss: 0.1398 - val_loss: 0.1368\n",
      "Epoch 16/50\n",
      "60000/60000 [==============================] - 1s 24us/step - loss: 0.1366 - val_loss: 0.1337\n",
      "Epoch 17/50\n",
      "60000/60000 [==============================] - 1s 24us/step - loss: 0.1337 - val_loss: 0.1308\n",
      "Epoch 18/50\n",
      "60000/60000 [==============================] - 1s 23us/step - loss: 0.1310 - val_loss: 0.1281\n",
      "Epoch 19/50\n",
      "60000/60000 [==============================] - 1s 23us/step - loss: 0.1284 - val_loss: 0.1257\n",
      "Epoch 20/50\n",
      "60000/60000 [==============================] - 1s 24us/step - loss: 0.1259 - val_loss: 0.1232\n",
      "Epoch 21/50\n",
      "60000/60000 [==============================] - 1s 24us/step - loss: 0.1236 - val_loss: 0.1210\n",
      "Epoch 22/50\n",
      "60000/60000 [==============================] - 1s 23us/step - loss: 0.1214 - val_loss: 0.1189\n",
      "Epoch 23/50\n",
      "60000/60000 [==============================] - 1s 24us/step - loss: 0.1193 - val_loss: 0.1168\n",
      "Epoch 24/50\n",
      "60000/60000 [==============================] - 1s 25us/step - loss: 0.1173 - val_loss: 0.1149\n",
      "Epoch 25/50\n",
      "60000/60000 [==============================] - 1s 23us/step - loss: 0.1155 - val_loss: 0.1131\n",
      "Epoch 26/50\n",
      "60000/60000 [==============================] - 1s 24us/step - loss: 0.1137 - val_loss: 0.1113\n",
      "Epoch 27/50\n",
      "60000/60000 [==============================] - 1s 24us/step - loss: 0.1121 - val_loss: 0.1098\n",
      "Epoch 28/50\n",
      "60000/60000 [==============================] - 1s 23us/step - loss: 0.1105 - val_loss: 0.1083\n",
      "Epoch 29/50\n",
      "60000/60000 [==============================] - 1s 24us/step - loss: 0.1091 - val_loss: 0.1069\n",
      "Epoch 30/50\n",
      "60000/60000 [==============================] - 1s 24us/step - loss: 0.1078 - val_loss: 0.1056\n",
      "Epoch 31/50\n",
      "60000/60000 [==============================] - 1s 24us/step - loss: 0.1065 - val_loss: 0.1044\n",
      "Epoch 32/50\n",
      "60000/60000 [==============================] - 1s 23us/step - loss: 0.1054 - val_loss: 0.1033\n",
      "Epoch 33/50\n",
      "60000/60000 [==============================] - 1s 24us/step - loss: 0.1043 - val_loss: 0.1023\n",
      "Epoch 34/50\n",
      "60000/60000 [==============================] - 1s 24us/step - loss: 0.1033 - val_loss: 0.1013\n",
      "Epoch 35/50\n",
      "60000/60000 [==============================] - 1s 23us/step - loss: 0.1023 - val_loss: 0.1004\n",
      "Epoch 36/50\n",
      "60000/60000 [==============================] - 1s 24us/step - loss: 0.1014 - val_loss: 0.0996\n",
      "Epoch 37/50\n",
      "60000/60000 [==============================] - 1s 24us/step - loss: 0.1006 - val_loss: 0.0988\n",
      "Epoch 38/50\n",
      "60000/60000 [==============================] - 1s 24us/step - loss: 0.0998 - val_loss: 0.0980\n",
      "Epoch 39/50\n",
      "60000/60000 [==============================] - 1s 24us/step - loss: 0.0991 - val_loss: 0.0973\n",
      "Epoch 40/50\n",
      "60000/60000 [==============================] - 1s 24us/step - loss: 0.0984 - val_loss: 0.0967\n",
      "Epoch 41/50\n",
      "60000/60000 [==============================] - 1s 24us/step - loss: 0.0978 - val_loss: 0.0961\n",
      "Epoch 42/50\n",
      "60000/60000 [==============================] - 1s 23us/step - loss: 0.0971 - val_loss: 0.0955\n",
      "Epoch 43/50\n",
      "60000/60000 [==============================] - 2s 25us/step - loss: 0.0966 - val_loss: 0.0949\n",
      "Epoch 44/50\n",
      "60000/60000 [==============================] - 1s 24us/step - loss: 0.0960 - val_loss: 0.0944\n",
      "Epoch 45/50\n",
      "60000/60000 [==============================] - 1s 23us/step - loss: 0.0955 - val_loss: 0.0939\n",
      "Epoch 46/50\n",
      "60000/60000 [==============================] - 1s 24us/step - loss: 0.0950 - val_loss: 0.0934\n",
      "Epoch 47/50\n",
      "60000/60000 [==============================] - 1s 24us/step - loss: 0.0945 - val_loss: 0.0929\n",
      "Epoch 48/50\n",
      "60000/60000 [==============================] - 1s 23us/step - loss: 0.0940 - val_loss: 0.0925\n",
      "Epoch 49/50\n",
      "60000/60000 [==============================] - ETA: 0s - loss: 0.093 - 1s 23us/step - loss: 0.0936 - val_loss: 0.0920\n",
      "Epoch 50/50\n",
      "60000/60000 [==============================] - 1s 24us/step - loss: 0.0932 - val_loss: 0.0917\n"
     ]
    },
    {
     "data": {
      "text/plain": [
       "<keras.callbacks.History at 0x2b96b001e80>"
      ]
     },
     "execution_count": 7,
     "metadata": {},
     "output_type": "execute_result"
    }
   ],
   "source": [
    "autoencoder.compile(optimizer='adadelta', loss='binary_crossentropy')\n",
    "\n",
    "autoencoder.fit(x_train, x_train, epochs=50,\n",
    "                batch_size=256, shuffle=True,\n",
    "                validation_data=(x_test, x_test))"
   ]
  },
  {
   "cell_type": "code",
   "execution_count": 8,
   "metadata": {},
   "outputs": [],
   "source": [
    "encoded_images = encoder.predict(x_test)\n",
    "decoded_images = decoder.predict(encoded_images) # takes the output from the encoder as input"
   ]
  },
  {
   "cell_type": "markdown",
   "metadata": {},
   "source": [
    "Visualize results using matplotlib:"
   ]
  },
  {
   "cell_type": "code",
   "execution_count": 9,
   "metadata": {},
   "outputs": [],
   "source": [
    "def visualize_data(data, size):\n",
    "    n = 10 # number of digits that will be displayed\n",
    "    plt.figure(figsize=(20, 4))\n",
    "    plt.gray()\n",
    "    for i in range(n):\n",
    "        ax = plt.subplot(2, n, i+1)\n",
    "        plt.imshow(data[i].reshape(size, size)) # reshape the image back to its normal shape\n",
    "        # disable axis\n",
    "        ax.get_xaxis().set_visible(False)\n",
    "        ax.get_yaxis().set_visible(False)\n",
    "    plt.show()    "
   ]
  },
  {
   "cell_type": "code",
   "execution_count": 10,
   "metadata": {},
   "outputs": [
    {
     "data": {
      "image/png": "[encoded data removed]",
      "text/plain": [
       "<Figure size 1440x288 with 10 Axes>"
      ]
     },
     "metadata": {
      "needs_background": "light"
     },
     "output_type": "display_data"
    },
    {
     "data": {
      "image/png": "[encoded data removed]",
      "text/plain": [
       "<Figure size 1440x288 with 10 Axes>"
      ]
     },
     "metadata": {
      "needs_background": "light"
     },
     "output_type": "display_data"
    }
   ],
   "source": [
    "visualize_data(x_test, 28)\n",
    "visualize_data(decoded_images, 28)"
   ]
  },
  {
   "cell_type": "markdown",
   "metadata": {},
   "source": [
    "We can also display our encoded images so we can see what shapes the algorithm thinks are important."
   ]
  },
  {
   "cell_type": "code",
   "execution_count": 11,
   "metadata": {},
   "outputs": [
    {
     "data": {
      "image/png": "[encoded data removed]",
      "text/plain": [
       "<Figure size 1440x288 with 10 Axes>"
      ]
     },
     "metadata": {
      "needs_background": "light"
     },
     "output_type": "display_data"
    }
   ],
   "source": [
    "visualize_data(encoded_images, 8)"
   ]
  },
  {
   "cell_type": "markdown",
   "metadata": {},
   "source": [
    "### Deep autoencoder\n",
    "\n",
    "To get better results we can use more layers or we could add sparsity using the <i>activity_regularizer</i> parameter."
   ]
  },
  {
   "cell_type": "code",
   "execution_count": 12,
   "metadata": {},
   "outputs": [],
   "source": [
    "input_layer = Input(shape=(784,))\n",
    "encoded = Dense(128, activation='relu')(input_layer)\n",
    "encoded = Dense(64, activation='relu')(encoded)\n",
    "\n",
    "decoded = Dense(128, activation='relu')(encoded)\n",
    "decoded = Dense(784, activation='sigmoid')(decoded)"
   ]
  },
  {
   "cell_type": "code",
   "execution_count": 13,
   "metadata": {},
   "outputs": [
    {
     "name": "stdout",
     "output_type": "stream",
     "text": [
      "Train on 60000 samples, validate on 10000 samples\n",
      "Epoch 1/100\n",
      "60000/60000 [==============================] - 3s 44us/step - loss: 0.3216 - val_loss: 0.2600\n",
      "Epoch 2/100\n",
      "60000/60000 [==============================] - 2s 30us/step - loss: 0.2432 - val_loss: 0.2245\n",
      "Epoch 3/100\n",
      "60000/60000 [==============================] - 2s 29us/step - loss: 0.2125 - val_loss: 0.1999\n",
      "Epoch 4/100\n",
      "60000/60000 [==============================] - 2s 29us/step - loss: 0.1921 - val_loss: 0.1834\n",
      "Epoch 5/100\n",
      "60000/60000 [==============================] - 2s 28us/step - loss: 0.1786 - val_loss: 0.1712\n",
      "Epoch 6/100\n",
      "60000/60000 [==============================] - 2s 28us/step - loss: 0.1686 - val_loss: 0.1631\n",
      "Epoch 7/100\n",
      "60000/60000 [==============================] - 2s 29us/step - loss: 0.1601 - val_loss: 0.1551\n",
      "Epoch 8/100\n",
      "60000/60000 [==============================] - 2s 28us/step - loss: 0.1534 - val_loss: 0.1498\n",
      "Epoch 9/100\n",
      "60000/60000 [==============================] - 2s 29us/step - loss: 0.1472 - val_loss: 0.1444\n",
      "Epoch 10/100\n",
      "60000/60000 [==============================] - 2s 29us/step - loss: 0.1421 - val_loss: 0.1440\n",
      "Epoch 11/100\n",
      "60000/60000 [==============================] - 2s 28us/step - loss: 0.1381 - val_loss: 0.1337\n",
      "Epoch 12/100\n",
      "60000/60000 [==============================] - 2s 29us/step - loss: 0.1346 - val_loss: 0.1316\n",
      "Epoch 13/100\n",
      "60000/60000 [==============================] - 2s 28us/step - loss: 0.1315 - val_loss: 0.1283\n",
      "Epoch 14/100\n",
      "60000/60000 [==============================] - 2s 28us/step - loss: 0.1287 - val_loss: 0.1260\n",
      "Epoch 15/100\n",
      "60000/60000 [==============================] - 2s 28us/step - loss: 0.1257 - val_loss: 0.1229\n",
      "Epoch 16/100\n",
      "60000/60000 [==============================] - 2s 29us/step - loss: 0.1233 - val_loss: 0.1208\n",
      "Epoch 17/100\n",
      "60000/60000 [==============================] - 2s 28us/step - loss: 0.1209 - val_loss: 0.1176\n",
      "Epoch 18/100\n",
      "60000/60000 [==============================] - 2s 28us/step - loss: 0.1189 - val_loss: 0.1158\n",
      "Epoch 19/100\n",
      "60000/60000 [==============================] - 2s 28us/step - loss: 0.1172 - val_loss: 0.1143\n",
      "Epoch 20/100\n",
      "60000/60000 [==============================] - 2s 29us/step - loss: 0.1155 - val_loss: 0.1131\n",
      "Epoch 21/100\n",
      "60000/60000 [==============================] - 2s 28us/step - loss: 0.1139 - val_loss: 0.1120\n",
      "Epoch 22/100\n",
      "60000/60000 [==============================] - 2s 29us/step - loss: 0.1125 - val_loss: 0.1095\n",
      "Epoch 23/100\n",
      "60000/60000 [==============================] - 2s 28us/step - loss: 0.1110 - val_loss: 0.1079\n",
      "Epoch 24/100\n",
      "60000/60000 [==============================] - 2s 28us/step - loss: 0.1098 - val_loss: 0.1071\n",
      "Epoch 25/100\n",
      "60000/60000 [==============================] - 2s 28us/step - loss: 0.1087 - val_loss: 0.1073\n",
      "Epoch 26/100\n",
      "60000/60000 [==============================] - 2s 29us/step - loss: 0.1076 - val_loss: 0.1064\n",
      "Epoch 27/100\n",
      "60000/60000 [==============================] - 2s 28us/step - loss: 0.1069 - val_loss: 0.1064\n",
      "Epoch 28/100\n",
      "60000/60000 [==============================] - 2s 28us/step - loss: 0.1060 - val_loss: 0.1038\n",
      "Epoch 29/100\n",
      "60000/60000 [==============================] - 2s 29us/step - loss: 0.1051 - val_loss: 0.1058\n",
      "Epoch 30/100\n",
      "60000/60000 [==============================] - 2s 29us/step - loss: 0.1043 - val_loss: 0.1026\n",
      "Epoch 31/100\n",
      "60000/60000 [==============================] - 2s 28us/step - loss: 0.1035 - val_loss: 0.1030\n",
      "Epoch 32/100\n",
      "60000/60000 [==============================] - 2s 28us/step - loss: 0.1030 - val_loss: 0.1017\n",
      "Epoch 33/100\n",
      "60000/60000 [==============================] - 2s 29us/step - loss: 0.1021 - val_loss: 0.1010\n",
      "Epoch 34/100\n",
      "60000/60000 [==============================] - 2s 28us/step - loss: 0.1017 - val_loss: 0.1004\n",
      "Epoch 35/100\n",
      "60000/60000 [==============================] - 2s 29us/step - loss: 0.1010 - val_loss: 0.0999\n",
      "Epoch 36/100\n",
      "60000/60000 [==============================] - 2s 28us/step - loss: 0.1004 - val_loss: 0.0993\n",
      "Epoch 37/100\n",
      "60000/60000 [==============================] - 2s 28us/step - loss: 0.0998 - val_loss: 0.0985\n",
      "Epoch 38/100\n",
      "60000/60000 [==============================] - 2s 29us/step - loss: 0.0992 - val_loss: 0.0983\n",
      "Epoch 39/100\n",
      "60000/60000 [==============================] - 2s 29us/step - loss: 0.0988 - val_loss: 0.0978\n",
      "Epoch 40/100\n",
      "60000/60000 [==============================] - 2s 28us/step - loss: 0.0982 - val_loss: 0.0964\n",
      "Epoch 41/100\n",
      "60000/60000 [==============================] - 2s 29us/step - loss: 0.0978 - val_loss: 0.0958\n",
      "Epoch 42/100\n",
      "60000/60000 [==============================] - 2s 28us/step - loss: 0.0974 - val_loss: 0.0973\n",
      "Epoch 43/100\n",
      "60000/60000 [==============================] - 2s 29us/step - loss: 0.0968 - val_loss: 0.0951\n",
      "Epoch 44/100\n",
      "60000/60000 [==============================] - 2s 29us/step - loss: 0.0966 - val_loss: 0.0951\n",
      "Epoch 45/100\n",
      "60000/60000 [==============================] - 2s 28us/step - loss: 0.0961 - val_loss: 0.0951\n",
      "Epoch 46/100\n",
      "60000/60000 [==============================] - 2s 30us/step - loss: 0.0958 - val_loss: 0.0940\n",
      "Epoch 47/100\n",
      "60000/60000 [==============================] - 2s 28us/step - loss: 0.0952 - val_loss: 0.0934\n",
      "Epoch 48/100\n",
      "60000/60000 [==============================] - 2s 29us/step - loss: 0.0950 - val_loss: 0.0933\n",
      "Epoch 49/100\n",
      "60000/60000 [==============================] - 2s 29us/step - loss: 0.0946 - val_loss: 0.0934\n",
      "Epoch 50/100\n",
      "60000/60000 [==============================] - 2s 29us/step - loss: 0.0944 - val_loss: 0.0934\n",
      "Epoch 51/100\n",
      "60000/60000 [==============================] - 2s 28us/step - loss: 0.0938 - val_loss: 0.0938\n",
      "Epoch 52/100\n",
      "60000/60000 [==============================] - 2s 28us/step - loss: 0.0935 - val_loss: 0.0935\n",
      "Epoch 53/100\n",
      "60000/60000 [==============================] - 2s 29us/step - loss: 0.0934 - val_loss: 0.0920\n",
      "Epoch 54/100\n",
      "60000/60000 [==============================] - 2s 28us/step - loss: 0.0929 - val_loss: 0.0919\n",
      "Epoch 55/100\n",
      "60000/60000 [==============================] - 2s 31us/step - loss: 0.0927 - val_loss: 0.0920\n",
      "Epoch 56/100\n",
      "60000/60000 [==============================] - 2s 30us/step - loss: 0.0923 - val_loss: 0.0914\n",
      "Epoch 57/100\n",
      "60000/60000 [==============================] - 2s 28us/step - loss: 0.0922 - val_loss: 0.0922\n",
      "Epoch 58/100\n",
      "60000/60000 [==============================] - 2s 29us/step - loss: 0.0919 - val_loss: 0.0907\n",
      "Epoch 59/100\n",
      "60000/60000 [==============================] - 2s 28us/step - loss: 0.0915 - val_loss: 0.0914\n",
      "Epoch 60/100\n",
      "60000/60000 [==============================] - 2s 28us/step - loss: 0.0914 - val_loss: 0.0907\n",
      "Epoch 61/100\n",
      "60000/60000 [==============================] - 2s 29us/step - loss: 0.0912 - val_loss: 0.0901\n",
      "Epoch 62/100\n",
      "60000/60000 [==============================] - 2s 28us/step - loss: 0.0910 - val_loss: 0.0897\n",
      "Epoch 63/100\n",
      "60000/60000 [==============================] - 2s 28us/step - loss: 0.0908 - val_loss: 0.0894\n",
      "Epoch 64/100\n",
      "60000/60000 [==============================] - 2s 29us/step - loss: 0.0905 - val_loss: 0.0897\n",
      "Epoch 65/100\n",
      "60000/60000 [==============================] - 2s 28us/step - loss: 0.0902 - val_loss: 0.0890\n",
      "Epoch 66/100\n",
      "60000/60000 [==============================] - 2s 28us/step - loss: 0.0902 - val_loss: 0.0892\n",
      "Epoch 67/100\n",
      "60000/60000 [==============================] - 2s 29us/step - loss: 0.0898 - val_loss: 0.0889\n",
      "Epoch 68/100\n",
      "60000/60000 [==============================] - 2s 28us/step - loss: 0.0897 - val_loss: 0.0885\n",
      "Epoch 69/100\n",
      "60000/60000 [==============================] - 2s 28us/step - loss: 0.0896 - val_loss: 0.0889\n",
      "Epoch 70/100\n",
      "60000/60000 [==============================] - 2s 29us/step - loss: 0.0894 - val_loss: 0.0889\n",
      "Epoch 71/100\n",
      "60000/60000 [==============================] - 2s 28us/step - loss: 0.0892 - val_loss: 0.0883\n",
      "Epoch 72/100\n",
      "60000/60000 [==============================] - 2s 29us/step - loss: 0.0890 - val_loss: 0.0877\n",
      "Epoch 73/100\n",
      "60000/60000 [==============================] - 2s 28us/step - loss: 0.0888 - val_loss: 0.0881\n",
      "Epoch 74/100\n",
      "60000/60000 [==============================] - 2s 28us/step - loss: 0.0887 - val_loss: 0.0876\n",
      "Epoch 75/100\n",
      "60000/60000 [==============================] - 2s 28us/step - loss: 0.0885 - val_loss: 0.0883\n",
      "Epoch 76/100\n",
      "60000/60000 [==============================] - 2s 28us/step - loss: 0.0885 - val_loss: 0.0877\n",
      "Epoch 77/100\n",
      "60000/60000 [==============================] - 2s 29us/step - loss: 0.0882 - val_loss: 0.0879\n",
      "Epoch 78/100\n",
      "60000/60000 [==============================] - 2s 28us/step - loss: 0.0880 - val_loss: 0.0870\n",
      "Epoch 79/100\n",
      "60000/60000 [==============================] - 2s 28us/step - loss: 0.0879 - val_loss: 0.0867\n",
      "Epoch 80/100\n",
      "60000/60000 [==============================] - 2s 28us/step - loss: 0.0877 - val_loss: 0.0866\n",
      "Epoch 81/100\n",
      "60000/60000 [==============================] - 2s 29us/step - loss: 0.0877 - val_loss: 0.0866\n",
      "Epoch 82/100\n",
      "60000/60000 [==============================] - 2s 28us/step - loss: 0.0874 - val_loss: 0.0864\n",
      "Epoch 83/100\n",
      "60000/60000 [==============================] - 2s 29us/step - loss: 0.0873 - val_loss: 0.0868\n",
      "Epoch 84/100\n",
      "60000/60000 [==============================] - 2s 28us/step - loss: 0.0871 - val_loss: 0.0863\n",
      "Epoch 85/100\n",
      "60000/60000 [==============================] - 2s 28us/step - loss: 0.0870 - val_loss: 0.0856\n",
      "Epoch 86/100\n",
      "60000/60000 [==============================] - 2s 28us/step - loss: 0.0869 - val_loss: 0.0864\n",
      "Epoch 87/100\n",
      "60000/60000 [==============================] - 2s 29us/step - loss: 0.0867 - val_loss: 0.0859\n",
      "Epoch 88/100\n",
      "60000/60000 [==============================] - 2s 29us/step - loss: 0.0866 - val_loss: 0.0854\n",
      "Epoch 89/100\n",
      "60000/60000 [==============================] - 2s 28us/step - loss: 0.0864 - val_loss: 0.0860\n",
      "Epoch 90/100\n",
      "60000/60000 [==============================] - 2s 28us/step - loss: 0.0864 - val_loss: 0.0861\n",
      "Epoch 91/100\n",
      "60000/60000 [==============================] - 2s 29us/step - loss: 0.0862 - val_loss: 0.0848\n",
      "Epoch 92/100\n",
      "60000/60000 [==============================] - 2s 28us/step - loss: 0.0861 - val_loss: 0.0854\n",
      "Epoch 93/100\n",
      "60000/60000 [==============================] - 2s 28us/step - loss: 0.0859 - val_loss: 0.0848\n",
      "Epoch 94/100\n",
      "60000/60000 [==============================] - 2s 29us/step - loss: 0.0858 - val_loss: 0.0856\n",
      "Epoch 95/100\n",
      "60000/60000 [==============================] - 2s 29us/step - loss: 0.0857 - val_loss: 0.0846\n",
      "Epoch 96/100\n",
      "60000/60000 [==============================] - 2s 28us/step - loss: 0.0857 - val_loss: 0.0852\n",
      "Epoch 97/100\n",
      "60000/60000 [==============================] - 2s 29us/step - loss: 0.0856 - val_loss: 0.0851\n",
      "Epoch 98/100\n",
      "60000/60000 [==============================] - 2s 28us/step - loss: 0.0853 - val_loss: 0.0848\n",
      "Epoch 99/100\n",
      "60000/60000 [==============================] - 2s 29us/step - loss: 0.0853 - val_loss: 0.0850\n",
      "Epoch 100/100\n",
      "60000/60000 [==============================] - 2s 29us/step - loss: 0.0852 - val_loss: 0.0846\n"
     ]
    },
    {
     "data": {
      "text/plain": [
       "<keras.callbacks.History at 0x2b910365358>"
      ]
     },
     "execution_count": 13,
     "metadata": {},
     "output_type": "execute_result"
    }
   ],
   "source": [
    "autoencoder = Model(input_layer, decoded)\n",
    "autoencoder.compile(optimizer='adadelta', loss='binary_crossentropy')\n",
    "\n",
    "autoencoder.fit(x_train, x_train, epochs=100,\n",
    "                batch_size=256, shuffle=True,\n",
    "                validation_data=(x_test, x_test))"
   ]
  },
  {
   "cell_type": "code",
   "execution_count": 14,
   "metadata": {},
   "outputs": [],
   "source": [
    "autoencoded_images = autoencoder.predict(x_test)"
   ]
  },
  {
   "cell_type": "code",
   "execution_count": 15,
   "metadata": {},
   "outputs": [
    {
     "data": {
      "image/png": "[encoded data removed]",
      "text/plain": [
       "<Figure size 1440x288 with 10 Axes>"
      ]
     },
     "metadata": {
      "needs_background": "light"
     },
     "output_type": "display_data"
    },
    {
     "data": {
      "image/png": "[encoded data removed]",
      "text/plain": [
       "<Figure size 1440x288 with 10 Axes>"
      ]
     },
     "metadata": {
      "needs_background": "light"
     },
     "output_type": "display_data"
    }
   ],
   "source": [
    "visualize_data(x_test, 28)\n",
    "visualize_data(autoencoded_images, 28)"
   ]
  },
  {
   "cell_type": "markdown",
   "metadata": {},
   "source": [
    "### Convolutional autoencoder\n",
    "\n",
    "Since our inputs are images, it makes sense to use convolutional neural networks (CNNs) since they have shown to achieve state of the art performance on image data.\n",
    "\n",
    "We will use MaxPolling to down-sample our data in the encoder and we will use UpSampling for the decoder."
   ]
  },
  {
   "cell_type": "code",
   "execution_count": 16,
   "metadata": {},
   "outputs": [
    {
     "name": "stdout",
     "output_type": "stream",
     "text": [
      "Training data shape: (60000, 28, 28, 1)\n",
      "Testing data shape: (10000, 28, 28, 1)\n"
     ]
    }
   ],
   "source": [
    "# Reshape data for Convolutional Layer\n",
    "x_train = x_train.reshape(len(x_train), 28, 28, 1)\n",
    "x_test = x_test.reshape(len(x_test), 28, 28, 1)\n",
    "print('Training data shape:', x_train.shape)\n",
    "print('Testing data shape:', x_test.shape)"
   ]
  },
  {
   "cell_type": "code",
   "execution_count": 17,
   "metadata": {},
   "outputs": [],
   "source": [
    "input_layer = Input(shape=(28, 28, 1))\n",
    "\n",
    "x = Conv2D(16, (3, 3), activation='relu', padding='same')(input_layer)\n",
    "x = MaxPooling2D((2, 2), padding='same')(x)\n",
    "x = Conv2D(8, (3, 3), activation='relu', padding='same')(x)\n",
    "x = MaxPooling2D((2, 2), padding='same')(x)\n",
    "x = Conv2D(8, (3, 3), activation='relu', padding='same')(x)\n",
    "encoded = MaxPooling2D((2,2), padding='same')(x)\n",
    "\n",
    "# encoded representation is (4, 4, 8) i.e. 128-dimensional \n",
    "\n",
    "x = Conv2D(8, (3, 3), activation='relu', padding='same')(encoded)\n",
    "x = UpSampling2D((2, 2))(x)\n",
    "x = Conv2D(8, (3, 3), activation='relu', padding='same')(x)\n",
    "x = UpSampling2D((2, 2))(x)\n",
    "x = Conv2D(16, (3, 3), activation='relu')(x)\n",
    "x = UpSampling2D((2, 2))(x)\n",
    "decoded = Conv2D(1, (3, 3), activation='sigmoid', padding='same')(x)"
   ]
  },
  {
   "cell_type": "code",
   "execution_count": 18,
   "metadata": {},
   "outputs": [],
   "source": [
    "autoencoder = Model(input_layer, decoded)\n",
    "autoencoder.compile(loss='binary_crossentropy', optimizer='adadelta')"
   ]
  },
  {
   "cell_type": "code",
   "execution_count": 19,
   "metadata": {},
   "outputs": [
    {
     "name": "stdout",
     "output_type": "stream",
     "text": [
      "Train on 60000 samples, validate on 10000 samples\n",
      "Epoch 1/50\n",
      "60000/60000 [==============================] - 42s 704us/step - loss: 0.2116 - val_loss: 0.1619\n",
      "Epoch 2/50\n",
      "60000/60000 [==============================] - 10s 159us/step - loss: 0.1518 - val_loss: 0.1408\n",
      "Epoch 3/50\n",
      "60000/60000 [==============================] - 10s 159us/step - loss: 0.1378 - val_loss: 0.1312\n",
      "Epoch 4/50\n",
      "60000/60000 [==============================] - 10s 159us/step - loss: 0.1305 - val_loss: 0.1335\n",
      "Epoch 5/50\n",
      "60000/60000 [==============================] - 10s 159us/step - loss: 0.1259 - val_loss: 0.1210\n",
      "Epoch 6/50\n",
      "60000/60000 [==============================] - 10s 159us/step - loss: 0.1225 - val_loss: 0.1192\n",
      "Epoch 7/50\n",
      "60000/60000 [==============================] - 10s 159us/step - loss: 0.1197 - val_loss: 0.1167\n",
      "Epoch 8/50\n",
      "60000/60000 [==============================] - 10s 159us/step - loss: 0.1179 - val_loss: 0.1189\n",
      "Epoch 9/50\n",
      "60000/60000 [==============================] - 10s 159us/step - loss: 0.1165 - val_loss: 0.1150\n",
      "Epoch 10/50\n",
      "60000/60000 [==============================] - 10s 159us/step - loss: 0.1152 - val_loss: 0.1138\n",
      "Epoch 11/50\n",
      "60000/60000 [==============================] - 10s 159us/step - loss: 0.1140 - val_loss: 0.1141\n",
      "Epoch 12/50\n",
      "60000/60000 [==============================] - 10s 159us/step - loss: 0.1128 - val_loss: 0.1128\n",
      "Epoch 13/50\n",
      "60000/60000 [==============================] - 10s 159us/step - loss: 0.1120 - val_loss: 0.1096\n",
      "Epoch 14/50\n",
      "60000/60000 [==============================] - 10s 160us/step - loss: 0.1114 - val_loss: 0.1090\n",
      "Epoch 15/50\n",
      "60000/60000 [==============================] - 10s 159us/step - loss: 0.1105 - val_loss: 0.1088\n",
      "Epoch 16/50\n",
      "60000/60000 [==============================] - 10s 159us/step - loss: 0.1099 - val_loss: 0.1085\n",
      "Epoch 17/50\n",
      "60000/60000 [==============================] - 10s 159us/step - loss: 0.1094 - val_loss: 0.1088\n",
      "Epoch 18/50\n",
      "60000/60000 [==============================] - 10s 159us/step - loss: 0.1087 - val_loss: 0.1060\n",
      "Epoch 19/50\n",
      "60000/60000 [==============================] - 10s 159us/step - loss: 0.1082 - val_loss: 0.1088\n",
      "Epoch 20/50\n",
      "60000/60000 [==============================] - 10s 159us/step - loss: 0.1079 - val_loss: 0.1165\n",
      "Epoch 21/50\n",
      "60000/60000 [==============================] - 10s 159us/step - loss: 0.1073 - val_loss: 0.1067\n",
      "Epoch 22/50\n",
      "60000/60000 [==============================] - 10s 159us/step - loss: 0.1071 - val_loss: 0.1074\n",
      "Epoch 23/50\n",
      "60000/60000 [==============================] - 10s 160us/step - loss: 0.1067 - val_loss: 0.1045\n",
      "Epoch 24/50\n",
      "60000/60000 [==============================] - 10s 159us/step - loss: 0.1064 - val_loss: 0.1059\n",
      "Epoch 25/50\n",
      "60000/60000 [==============================] - 10s 159us/step - loss: 0.1062 - val_loss: 0.1040\n",
      "Epoch 26/50\n",
      "60000/60000 [==============================] - 10s 159us/step - loss: 0.1057 - val_loss: 0.1054\n",
      "Epoch 27/50\n",
      "60000/60000 [==============================] - 10s 159us/step - loss: 0.1057 - val_loss: 0.1113\n",
      "Epoch 28/50\n",
      "60000/60000 [==============================] - 10s 159us/step - loss: 0.1053 - val_loss: 0.1052\n",
      "Epoch 29/50\n",
      "60000/60000 [==============================] - 10s 159us/step - loss: 0.1050 - val_loss: 0.1038\n",
      "Epoch 30/50\n",
      "60000/60000 [==============================] - 10s 163us/step - loss: 0.1048 - val_loss: 0.1061\n",
      "Epoch 31/50\n",
      "60000/60000 [==============================] - 10s 161us/step - loss: 0.1044 - val_loss: 0.1010\n",
      "Epoch 32/50\n",
      "60000/60000 [==============================] - 10s 164us/step - loss: 0.1043 - val_loss: 0.1015\n",
      "Epoch 33/50\n",
      "60000/60000 [==============================] - 10s 160us/step - loss: 0.1040 - val_loss: 0.1021\n",
      "Epoch 34/50\n",
      "60000/60000 [==============================] - 10s 160us/step - loss: 0.1036 - val_loss: 0.1024\n",
      "Epoch 35/50\n",
      "60000/60000 [==============================] - 10s 159us/step - loss: 0.1033 - val_loss: 0.1024\n",
      "Epoch 36/50\n",
      "60000/60000 [==============================] - 10s 159us/step - loss: 0.1031 - val_loss: 0.1021\n",
      "Epoch 37/50\n",
      "60000/60000 [==============================] - 10s 159us/step - loss: 0.1030 - val_loss: 0.1022\n",
      "Epoch 38/50\n",
      "60000/60000 [==============================] - 10s 159us/step - loss: 0.1027 - val_loss: 0.1026\n",
      "Epoch 39/50\n",
      "60000/60000 [==============================] - 10s 159us/step - loss: 0.1028 - val_loss: 0.1014\n",
      "Epoch 40/50\n",
      "60000/60000 [==============================] - 10s 159us/step - loss: 0.1023 - val_loss: 0.0986\n",
      "Epoch 41/50\n",
      "60000/60000 [==============================] - 10s 159us/step - loss: 0.1024 - val_loss: 0.0995\n",
      "Epoch 42/50\n",
      "60000/60000 [==============================] - 10s 160us/step - loss: 0.1022 - val_loss: 0.0992\n",
      "Epoch 43/50\n",
      "60000/60000 [==============================] - 10s 159us/step - loss: 0.1022 - val_loss: 0.1006\n",
      "Epoch 44/50\n",
      "60000/60000 [==============================] - 10s 159us/step - loss: 0.1020 - val_loss: 0.1008\n",
      "Epoch 45/50\n",
      "60000/60000 [==============================] - 10s 159us/step - loss: 0.1019 - val_loss: 0.1013\n",
      "Epoch 46/50\n",
      "60000/60000 [==============================] - 10s 161us/step - loss: 0.1015 - val_loss: 0.0999\n",
      "Epoch 47/50\n",
      "60000/60000 [==============================] - 10s 163us/step - loss: 0.1013 - val_loss: 0.0990\n",
      "Epoch 48/50\n",
      "60000/60000 [==============================] - 10s 161us/step - loss: 0.1013 - val_loss: 0.0989\n",
      "Epoch 49/50\n",
      "60000/60000 [==============================] - 10s 159us/step - loss: 0.1012 - val_loss: 0.1001\n",
      "Epoch 50/50\n",
      "60000/60000 [==============================] - 10s 159us/step - loss: 0.1011 - val_loss: 0.0987\n"
     ]
    },
    {
     "data": {
      "text/plain": [
       "<keras.callbacks.History at 0x2b947645630>"
      ]
     },
     "execution_count": 19,
     "metadata": {},
     "output_type": "execute_result"
    }
   ],
   "source": [
    "autoencoder.fit(x_train, x_train, epochs=50, \n",
    "                batch_size=128, shuffle=True,\n",
    "                validation_data=(x_test, x_test))"
   ]
  },
  {
   "cell_type": "code",
   "execution_count": 20,
   "metadata": {},
   "outputs": [],
   "source": [
    "autoencoded_images = autoencoder.predict(x_test)"
   ]
  },
  {
   "cell_type": "code",
   "execution_count": 21,
   "metadata": {},
   "outputs": [
    {
     "data": {
      "image/png": "[encoded data removed]",
      "text/plain": [
       "<Figure size 1440x288 with 10 Axes>"
      ]
     },
     "metadata": {
      "needs_background": "light"
     },
     "output_type": "display_data"
    },
    {
     "data": {
      "image/png": "[encoded data removed]",
      "text/plain": [
       "<Figure size 1440x288 with 10 Axes>"
      ]
     },
     "metadata": {
      "needs_background": "light"
     },
     "output_type": "display_data"
    }
   ],
   "source": [
    "visualize_data(x_test, 28)\n",
    "visualize_data(autoencoded_images, 28)"
   ]
  },
  {
   "cell_type": "markdown",
   "metadata": {},
   "source": [
    "### Image denoising\n",
    "\n",
    "We can denoise our image by letting our autoencoder map noisy images to clean once."
   ]
  },
  {
   "cell_type": "markdown",
   "metadata": {},
   "source": [
    "##### Creating noisy data"
   ]
  },
  {
   "cell_type": "code",
   "execution_count": 22,
   "metadata": {},
   "outputs": [],
   "source": [
    "noise_factor = 0.5\n",
    "x_train_noisy = x_train + noise_factor * np.random.normal(loc=0.0, scale=1.0, size=x_train.shape) \n",
    "x_test_noisy = x_test + noise_factor * np.random.normal(loc=0.0, scale=1.0, size=x_test.shape) \n",
    "\n",
    "x_train_noisy = np.clip(x_train_noisy, 0., 1.)\n",
    "x_test_noisy = np.clip(x_test_noisy, 0., 1.)"
   ]
  },
  {
   "cell_type": "code",
   "execution_count": 23,
   "metadata": {},
   "outputs": [
    {
     "data": {
      "image/png": "[encoded data removed]",
      "text/plain": [
       "<Figure size 1440x288 with 10 Axes>"
      ]
     },
     "metadata": {
      "needs_background": "light"
     },
     "output_type": "display_data"
    }
   ],
   "source": [
    "visualize_data(x_test_noisy, 28)"
   ]
  },
  {
   "cell_type": "markdown",
   "metadata": {},
   "source": [
    "In order to improve the quality of the image we will need more filters for our Convolutional Layers."
   ]
  },
  {
   "cell_type": "code",
   "execution_count": 24,
   "metadata": {},
   "outputs": [],
   "source": [
    "input_layer = Input(shape=(28, 28, 1))\n",
    "\n",
    "x = Conv2D(32, (3, 3), activation='relu', padding='same')(input_layer)\n",
    "x = MaxPooling2D((2, 2), padding='same')(x)\n",
    "x = Conv2D(32, (3, 3), activation='relu', padding='same')(x)\n",
    "encoded = MaxPooling2D((2, 2), padding='same')(x)\n",
    "\n",
    "# at this point the representation is (7, 7, 32)\n",
    "\n",
    "x = Conv2D(32, (3, 3), activation='relu', padding='same')(encoded)\n",
    "x = UpSampling2D((2, 2))(x)\n",
    "x = Conv2D(32, (3, 3), activation='relu', padding='same')(x)\n",
    "x = UpSampling2D((2, 2))(x)\n",
    "decoded = Conv2D(1, (3, 3), activation='sigmoid', padding='same')(x)"
   ]
  },
  {
   "cell_type": "code",
   "execution_count": 25,
   "metadata": {},
   "outputs": [],
   "source": [
    "autoencoder = Model(input_layer, decoded)\n",
    "autoencoder.compile(optimizer='adadelta', loss='binary_crossentropy')"
   ]
  },
  {
   "cell_type": "code",
   "execution_count": 26,
   "metadata": {},
   "outputs": [
    {
     "name": "stdout",
     "output_type": "stream",
     "text": [
      "Train on 60000 samples, validate on 10000 samples\n",
      "Epoch 1/100\n",
      "60000/60000 [==============================] - 15s 247us/step - loss: 0.1810 - val_loss: 0.1302\n",
      "Epoch 2/100\n",
      "60000/60000 [==============================] - 13s 217us/step - loss: 0.1219 - val_loss: 0.1156\n",
      "Epoch 3/100\n",
      "60000/60000 [==============================] - 13s 217us/step - loss: 0.1139 - val_loss: 0.1107\n",
      "Epoch 4/100\n",
      "60000/60000 [==============================] - 13s 217us/step - loss: 0.1098 - val_loss: 0.1076\n",
      "Epoch 5/100\n",
      "60000/60000 [==============================] - 13s 217us/step - loss: 0.1072 - val_loss: 0.1061\n",
      "Epoch 6/100\n",
      "60000/60000 [==============================] - 13s 217us/step - loss: 0.1057 - val_loss: 0.1066\n",
      "Epoch 7/100\n",
      "60000/60000 [==============================] - 13s 217us/step - loss: 0.1045 - val_loss: 0.1039\n",
      "Epoch 8/100\n",
      "60000/60000 [==============================] - 13s 217us/step - loss: 0.1037 - val_loss: 0.1016\n",
      "Epoch 9/100\n",
      "60000/60000 [==============================] - 13s 217us/step - loss: 0.1030 - val_loss: 0.1009\n",
      "Epoch 10/100\n",
      "60000/60000 [==============================] - 13s 216us/step - loss: 0.1023 - val_loss: 0.1015\n",
      "Epoch 11/100\n",
      "60000/60000 [==============================] - 13s 216us/step - loss: 0.1019 - val_loss: 0.1002\n",
      "Epoch 12/100\n",
      "60000/60000 [==============================] - 13s 217us/step - loss: 0.1014 - val_loss: 0.1012\n",
      "Epoch 13/100\n",
      "60000/60000 [==============================] - 13s 217us/step - loss: 0.1011 - val_loss: 0.0996\n",
      "Epoch 14/100\n",
      "60000/60000 [==============================] - 13s 217us/step - loss: 0.1007 - val_loss: 0.0994\n",
      "Epoch 15/100\n",
      "60000/60000 [==============================] - 13s 217us/step - loss: 0.1004 - val_loss: 0.0993\n",
      "Epoch 16/100\n",
      "60000/60000 [==============================] - 13s 217us/step - loss: 0.1002 - val_loss: 0.0992\n",
      "Epoch 17/100\n",
      "60000/60000 [==============================] - 13s 217us/step - loss: 0.1000 - val_loss: 0.1000\n",
      "Epoch 18/100\n",
      "60000/60000 [==============================] - 13s 217us/step - loss: 0.0998 - val_loss: 0.0986\n",
      "Epoch 19/100\n",
      "60000/60000 [==============================] - 13s 217us/step - loss: 0.0995 - val_loss: 0.0983\n",
      "Epoch 20/100\n",
      "60000/60000 [==============================] - 13s 217us/step - loss: 0.0993 - val_loss: 0.0983\n",
      "Epoch 21/100\n",
      "60000/60000 [==============================] - 13s 217us/step - loss: 0.0991 - val_loss: 0.0989\n",
      "Epoch 22/100\n",
      "60000/60000 [==============================] - 13s 217us/step - loss: 0.0990 - val_loss: 0.0992\n",
      "Epoch 23/100\n",
      "60000/60000 [==============================] - 13s 217us/step - loss: 0.0988 - val_loss: 0.0982\n",
      "Epoch 24/100\n",
      "60000/60000 [==============================] - 13s 217us/step - loss: 0.0987 - val_loss: 0.0977\n",
      "Epoch 25/100\n",
      "60000/60000 [==============================] - 13s 217us/step - loss: 0.0985 - val_loss: 0.0985\n",
      "Epoch 26/100\n",
      "60000/60000 [==============================] - 13s 217us/step - loss: 0.0984 - val_loss: 0.0982\n",
      "Epoch 27/100\n",
      "60000/60000 [==============================] - 13s 217us/step - loss: 0.0983 - val_loss: 0.0984\n",
      "Epoch 28/100\n",
      "60000/60000 [==============================] - 13s 217us/step - loss: 0.0982 - val_loss: 0.0977\n",
      "Epoch 29/100\n",
      "60000/60000 [==============================] - 13s 217us/step - loss: 0.0980 - val_loss: 0.0975\n",
      "Epoch 30/100\n",
      "60000/60000 [==============================] - 13s 217us/step - loss: 0.0980 - val_loss: 0.0975\n",
      "Epoch 31/100\n",
      "60000/60000 [==============================] - 13s 217us/step - loss: 0.0979 - val_loss: 0.0972\n",
      "Epoch 32/100\n",
      "60000/60000 [==============================] - 13s 217us/step - loss: 0.0977 - val_loss: 0.0976\n",
      "Epoch 33/100\n",
      "60000/60000 [==============================] - 13s 217us/step - loss: 0.0977 - val_loss: 0.0970\n",
      "Epoch 34/100\n",
      "60000/60000 [==============================] - 13s 217us/step - loss: 0.0976 - val_loss: 0.0969\n",
      "Epoch 35/100\n",
      "60000/60000 [==============================] - 13s 217us/step - loss: 0.0975 - val_loss: 0.0973\n",
      "Epoch 36/100\n",
      "60000/60000 [==============================] - 13s 216us/step - loss: 0.0974 - val_loss: 0.0968\n",
      "Epoch 37/100\n",
      "60000/60000 [==============================] - 13s 217us/step - loss: 0.0974 - val_loss: 0.0971\n",
      "Epoch 38/100\n",
      "60000/60000 [==============================] - 13s 217us/step - loss: 0.0974 - val_loss: 0.0973\n",
      "Epoch 39/100\n",
      "60000/60000 [==============================] - 13s 217us/step - loss: 0.0973 - val_loss: 0.0974\n",
      "Epoch 40/100\n",
      "60000/60000 [==============================] - 13s 217us/step - loss: 0.0972 - val_loss: 0.0967\n",
      "Epoch 41/100\n",
      "60000/60000 [==============================] - 13s 217us/step - loss: 0.0971 - val_loss: 0.0976\n",
      "Epoch 42/100\n",
      "60000/60000 [==============================] - 13s 217us/step - loss: 0.0971 - val_loss: 0.0975\n",
      "Epoch 43/100\n",
      "60000/60000 [==============================] - 13s 217us/step - loss: 0.0970 - val_loss: 0.0966\n",
      "Epoch 44/100\n",
      "60000/60000 [==============================] - 13s 217us/step - loss: 0.0969 - val_loss: 0.0962\n",
      "Epoch 45/100\n",
      "60000/60000 [==============================] - 13s 217us/step - loss: 0.0969 - val_loss: 0.0964\n",
      "Epoch 46/100\n",
      "60000/60000 [==============================] - 13s 217us/step - loss: 0.0968 - val_loss: 0.0963\n",
      "Epoch 47/100\n",
      "60000/60000 [==============================] - 13s 217us/step - loss: 0.0968 - val_loss: 0.0972\n",
      "Epoch 48/100\n",
      "60000/60000 [==============================] - 13s 217us/step - loss: 0.0967 - val_loss: 0.0962\n",
      "Epoch 49/100\n",
      "60000/60000 [==============================] - 13s 217us/step - loss: 0.0966 - val_loss: 0.0960\n",
      "Epoch 50/100\n",
      "60000/60000 [==============================] - 13s 217us/step - loss: 0.0967 - val_loss: 0.0960\n",
      "Epoch 51/100\n",
      "60000/60000 [==============================] - 13s 217us/step - loss: 0.0965 - val_loss: 0.0964\n",
      "Epoch 52/100\n",
      "60000/60000 [==============================] - 13s 217us/step - loss: 0.0966 - val_loss: 0.0966\n",
      "Epoch 53/100\n",
      "60000/60000 [==============================] - 13s 217us/step - loss: 0.0965 - val_loss: 0.0959\n",
      "Epoch 54/100\n",
      "60000/60000 [==============================] - 13s 217us/step - loss: 0.0964 - val_loss: 0.0959\n",
      "Epoch 55/100\n",
      "60000/60000 [==============================] - 13s 217us/step - loss: 0.0963 - val_loss: 0.0961\n",
      "Epoch 56/100\n",
      "60000/60000 [==============================] - 13s 219us/step - loss: 0.0963 - val_loss: 0.0960\n",
      "Epoch 57/100\n",
      "60000/60000 [==============================] - 13s 221us/step - loss: 0.0963 - val_loss: 0.0958\n",
      "Epoch 58/100\n",
      "60000/60000 [==============================] - 13s 219us/step - loss: 0.0963 - val_loss: 0.0979\n",
      "Epoch 59/100\n",
      "60000/60000 [==============================] - 13s 217us/step - loss: 0.0962 - val_loss: 0.0961\n",
      "Epoch 60/100\n",
      "60000/60000 [==============================] - 13s 217us/step - loss: 0.0961 - val_loss: 0.0957\n",
      "Epoch 61/100\n",
      "60000/60000 [==============================] - 13s 217us/step - loss: 0.0962 - val_loss: 0.0956\n",
      "Epoch 62/100\n",
      "60000/60000 [==============================] - 13s 217us/step - loss: 0.0961 - val_loss: 0.0956\n",
      "Epoch 63/100\n",
      "60000/60000 [==============================] - 13s 217us/step - loss: 0.0961 - val_loss: 0.0958\n",
      "Epoch 64/100\n",
      "60000/60000 [==============================] - 13s 217us/step - loss: 0.0961 - val_loss: 0.0957\n",
      "Epoch 65/100\n",
      "60000/60000 [==============================] - 13s 217us/step - loss: 0.0960 - val_loss: 0.0959\n",
      "Epoch 66/100\n",
      "60000/60000 [==============================] - 13s 217us/step - loss: 0.0959 - val_loss: 0.0958\n",
      "Epoch 67/100\n",
      "60000/60000 [==============================] - 13s 217us/step - loss: 0.0959 - val_loss: 0.0957\n",
      "Epoch 68/100\n",
      "60000/60000 [==============================] - 13s 217us/step - loss: 0.0959 - val_loss: 0.0971\n",
      "Epoch 69/100\n",
      "60000/60000 [==============================] - 13s 217us/step - loss: 0.0958 - val_loss: 0.0956\n",
      "Epoch 70/100\n",
      "60000/60000 [==============================] - 13s 217us/step - loss: 0.0959 - val_loss: 0.0961\n",
      "Epoch 71/100\n",
      "60000/60000 [==============================] - 13s 217us/step - loss: 0.0958 - val_loss: 0.0969\n",
      "Epoch 72/100\n",
      "60000/60000 [==============================] - 13s 217us/step - loss: 0.0958 - val_loss: 0.0955\n",
      "Epoch 73/100\n",
      "60000/60000 [==============================] - 13s 217us/step - loss: 0.0958 - val_loss: 0.0954\n",
      "Epoch 74/100\n",
      "60000/60000 [==============================] - 13s 216us/step - loss: 0.0958 - val_loss: 0.0961\n",
      "Epoch 75/100\n",
      "60000/60000 [==============================] - 13s 220us/step - loss: 0.0957 - val_loss: 0.0954\n"
     ]
    },
    {
     "name": "stdout",
     "output_type": "stream",
     "text": [
      "Epoch 76/100\n",
      "60000/60000 [==============================] - 13s 221us/step - loss: 0.0957 - val_loss: 0.0953\n",
      "Epoch 77/100\n",
      "60000/60000 [==============================] - 13s 218us/step - loss: 0.0956 - val_loss: 0.0954\n",
      "Epoch 78/100\n",
      "60000/60000 [==============================] - 13s 217us/step - loss: 0.0956 - val_loss: 0.0962\n",
      "Epoch 79/100\n",
      "60000/60000 [==============================] - 13s 217us/step - loss: 0.0957 - val_loss: 0.0956\n",
      "Epoch 80/100\n",
      "60000/60000 [==============================] - 13s 218us/step - loss: 0.0956 - val_loss: 0.0953\n",
      "Epoch 81/100\n",
      "60000/60000 [==============================] - 13s 217us/step - loss: 0.0955 - val_loss: 0.0953\n",
      "Epoch 82/100\n",
      "60000/60000 [==============================] - 13s 217us/step - loss: 0.0956 - val_loss: 0.0956\n",
      "Epoch 83/100\n",
      "60000/60000 [==============================] - 13s 218us/step - loss: 0.0955 - val_loss: 0.0951\n",
      "Epoch 84/100\n",
      "60000/60000 [==============================] - 13s 217us/step - loss: 0.0955 - val_loss: 0.0956\n",
      "Epoch 85/100\n",
      "60000/60000 [==============================] - 13s 217us/step - loss: 0.0955 - val_loss: 0.0955\n",
      "Epoch 86/100\n",
      "60000/60000 [==============================] - 13s 217us/step - loss: 0.0955 - val_loss: 0.0952\n",
      "Epoch 87/100\n",
      "60000/60000 [==============================] - 13s 217us/step - loss: 0.0954 - val_loss: 0.0954\n",
      "Epoch 88/100\n",
      "60000/60000 [==============================] - 13s 217us/step - loss: 0.0954 - val_loss: 0.0952\n",
      "Epoch 89/100\n",
      "60000/60000 [==============================] - 13s 216us/step - loss: 0.0955 - val_loss: 0.0951\n",
      "Epoch 90/100\n",
      "60000/60000 [==============================] - 13s 217us/step - loss: 0.0954 - val_loss: 0.0953\n",
      "Epoch 91/100\n",
      "60000/60000 [==============================] - 13s 217us/step - loss: 0.0954 - val_loss: 0.0952\n",
      "Epoch 92/100\n",
      "60000/60000 [==============================] - 13s 217us/step - loss: 0.0953 - val_loss: 0.0950\n",
      "Epoch 93/100\n",
      "60000/60000 [==============================] - 13s 217us/step - loss: 0.0953 - val_loss: 0.0951\n",
      "Epoch 94/100\n",
      "60000/60000 [==============================] - 13s 217us/step - loss: 0.0953 - val_loss: 0.0949\n",
      "Epoch 95/100\n",
      "60000/60000 [==============================] - 13s 217us/step - loss: 0.0954 - val_loss: 0.0951\n",
      "Epoch 96/100\n",
      "60000/60000 [==============================] - 13s 217us/step - loss: 0.0953 - val_loss: 0.0952\n",
      "Epoch 97/100\n",
      "60000/60000 [==============================] - 13s 217us/step - loss: 0.0952 - val_loss: 0.0952\n",
      "Epoch 98/100\n",
      "60000/60000 [==============================] - 13s 217us/step - loss: 0.0952 - val_loss: 0.0952\n",
      "Epoch 99/100\n",
      "60000/60000 [==============================] - 13s 217us/step - loss: 0.0952 - val_loss: 0.0949\n",
      "Epoch 100/100\n",
      "60000/60000 [==============================] - 13s 217us/step - loss: 0.0952 - val_loss: 0.0957\n"
     ]
    },
    {
     "data": {
      "text/plain": [
       "<keras.callbacks.History at 0x2b9458ac0f0>"
      ]
     },
     "execution_count": 26,
     "metadata": {},
     "output_type": "execute_result"
    }
   ],
   "source": [
    "autoencoder.fit(x_train_noisy, x_train, epochs=100, \n",
    "                batch_size=128, shuffle=True,\n",
    "                validation_data=(x_test_noisy, x_test))"
   ]
  },
  {
   "cell_type": "code",
   "execution_count": 27,
   "metadata": {},
   "outputs": [
    {
     "data": {
      "image/png": "[encoded data removed]",
      "text/plain": [
       "<Figure size 1440x288 with 10 Axes>"
      ]
     },
     "metadata": {
      "needs_background": "light"
     },
     "output_type": "display_data"
    },
    {
     "data": {
      "image/png": "[encoded data removed]",
      "text/plain": [
       "<Figure size 1440x288 with 10 Axes>"
      ]
     },
     "metadata": {
      "needs_background": "light"
     },
     "output_type": "display_data"
    }
   ],
   "source": [
    "denoised_data = autoencoder.predict(x_train_noisy)\n",
    "\n",
    "visualize_data(x_train_noisy, 28)\n",
    "visualize_data(denoised_data, 28)"
   ]
  },
  {
   "cell_type": "markdown",
   "metadata": {},
   "source": [
    "## Resources \n",
    "\n",
    "<ul>\n",
    "    <li><a href=\"https://blog.keras.io/building-autoencoders-in-keras.html\">Building Autoencoders in Keras (Keras Blog)</a></li>\n",
    "    <li><a href=\"https://en.wikipedia.org/wiki/Autoencoder\">Autoencoder (Wikipedia)</a></li>\n",
    "    <li><a href=\"http://ufldl.stanford.edu/tutorial/unsupervised/Autoencoders/\">Autoencoders (Stanford University)</a></li>\n",
    "</ul>"
   ]
  }
 ],
 "metadata": {
  "kernelspec": {
   "display_name": "Python 3",
   "language": "python",
   "name": "python3"
  },
  "language_info": {
   "codemirror_mode": {
    "name": "ipython",
    "version": 3
   },
   "file_extension": ".py",
   "mimetype": "text/x-python",
   "name": "python",
   "nbconvert_exporter": "python",
   "pygments_lexer": "ipython3",
   "version": "3.6.6"
  }
 },
 "nbformat": 4,
 "nbformat_minor": 2
}
